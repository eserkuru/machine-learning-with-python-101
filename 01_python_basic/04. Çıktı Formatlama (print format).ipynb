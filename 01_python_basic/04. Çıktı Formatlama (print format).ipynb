{
 "cells": [
  {
   "cell_type": "markdown",
   "metadata": {},
   "source": [
    "# karakter dizisi birleştirme"
   ]
  },
  {
   "cell_type": "code",
   "execution_count": 1,
   "metadata": {},
   "outputs": [],
   "source": [
    "alan_adı = \"datalonga\"\n",
    "uzantı = \"com\""
   ]
  },
  {
   "cell_type": "code",
   "execution_count": 2,
   "metadata": {},
   "outputs": [
    {
     "name": "stdout",
     "output_type": "stream",
     "text": [
      "datalonga.com\n"
     ]
    }
   ],
   "source": [
    "print(alan_adı+\".\"+uzantı)"
   ]
  },
  {
   "cell_type": "markdown",
   "metadata": {},
   "source": [
    "# format()"
   ]
  },
  {
   "cell_type": "code",
   "execution_count": 4,
   "metadata": {},
   "outputs": [
    {
     "name": "stdout",
     "output_type": "stream",
     "text": [
      "Satın aldığınız 'datalonga.com' alan adı bir yıl geçerlidir.\n"
     ]
    }
   ],
   "source": [
    "print(\"Satın aldığınız '{}.{}' alan adı bir yıl geçerlidir.\"\n",
    "      .format(alan_adı,uzantı))"
   ]
  },
  {
   "cell_type": "code",
   "execution_count": 4,
   "metadata": {},
   "outputs": [
    {
     "name": "stdout",
     "output_type": "stream",
     "text": [
      "13 yaşında Ahmet adında bir çocuğum var.\n"
     ]
    }
   ],
   "source": [
    "print(\"{} yaşında {} adında bir çocuğum var.\".format(13, \"Ahmet\"))"
   ]
  },
  {
   "cell_type": "code",
   "execution_count": 5,
   "metadata": {},
   "outputs": [
    {
     "name": "stdout",
     "output_type": "stream",
     "text": [
      "Matematik'den 89, Fizik'den 87 aldınız\n"
     ]
    }
   ],
   "source": [
    "print(\"{}'den {}, {}'den {} aldınız\".format(\"Matematik\",89, \"Fizik\", 87))"
   ]
  },
  {
   "cell_type": "markdown",
   "metadata": {},
   "source": [
    "# Format için farklı bir yöntem"
   ]
  },
  {
   "cell_type": "code",
   "execution_count": 6,
   "metadata": {},
   "outputs": [
    {
     "name": "stdout",
     "output_type": "stream",
     "text": [
      "Satın aldığınız 'datalonga.com' alan adı bir yıl geçerlidir.\n"
     ]
    }
   ],
   "source": [
    "print(\"Satın aldığınız '%s.%s' alan adı bir yıl geçerlidir.\" %(alan_adı,uzantı))"
   ]
  },
  {
   "cell_type": "code",
   "execution_count": 7,
   "metadata": {},
   "outputs": [
    {
     "name": "stdout",
     "output_type": "stream",
     "text": [
      "Satın aldığınız '5.com' alan adı bir yıl geçerlidir.\n"
     ]
    }
   ],
   "source": [
    "print(\"Satın aldığınız '%d.%s' alan adı bir yıl geçerlidir.\" %(5,uzantı))"
   ]
  },
  {
   "cell_type": "code",
   "execution_count": null,
   "metadata": {},
   "outputs": [],
   "source": []
  }
 ],
 "metadata": {
  "kernelspec": {
   "display_name": "Python 3",
   "language": "python",
   "name": "python3"
  },
  "language_info": {
   "codemirror_mode": {
    "name": "ipython",
    "version": 3
   },
   "file_extension": ".py",
   "mimetype": "text/x-python",
   "name": "python",
   "nbconvert_exporter": "python",
   "pygments_lexer": "ipython3",
   "version": "3.6.5"
  }
 },
 "nbformat": 4,
 "nbformat_minor": 2
}
