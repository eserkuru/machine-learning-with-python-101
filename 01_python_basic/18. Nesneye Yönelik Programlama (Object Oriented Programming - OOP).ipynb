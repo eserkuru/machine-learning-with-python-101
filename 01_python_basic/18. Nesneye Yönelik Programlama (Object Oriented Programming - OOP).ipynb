{
 "cells": [
  {
   "cell_type": "code",
   "execution_count": null,
   "metadata": {},
   "outputs": [],
   "source": [
    "\"\"\" \n",
    "    Nesne tabanlı programlama, pek çok yazılım geliştirme yönteminden yalnızca biridir. \n",
    "Siz bu yöntemi, yazdığınız programlarda kullanmak zorunda değilsiniz. \n",
    "Nesne tabanlı programlamadan hiç yararlanmadan da faydalı ve iyi programlar yazabilirsiniz elbette.\n",
    "Python sizi bu yöntemi kullanmaya asla zorlamaz. \n",
    "Ancak nesne tabanlı programlama yaklaşımı program geliştirme alanında oldukça yaygın kullanılan \n",
    "bir yöntemdir. Dolayısıyla, etrafta nesne tabanlı programlama yaklaşımından yararlanılarak \n",
    "yazılmış pek çok kodla karşılaşacaksınız. \n",
    "Hiç değilse karşılaştığınız bu kodları anlayabilmek için nesne tabanlı programlamayı \n",
    "biliyor ve tanıyor olmanız lazım. \n",
    "Aksi halde, bu yöntem kullanılarak geliştirilmiş programları anlayamazsınız.\n",
    "\"\"\""
   ]
  },
  {
   "cell_type": "markdown",
   "metadata": {},
   "source": [
    "# Sınıflar"
   ]
  },
  {
   "cell_type": "markdown",
   "metadata": {},
   "source": [
    "    OOP'nin temel kavramıdır. Nesneleri tanımlamamızı sağlar. Sınıfları nesne üreten şablon veya kalıp olarak da düşünebiliriz. Örneğin oyuncak araba üreten bir makine kalıbı tasarlandığında aynı kalığtan binlerce oyuncak araba üretilebilir."
   ]
  },
  {
   "cell_type": "code",
   "execution_count": 1,
   "metadata": {},
   "outputs": [],
   "source": [
    "class Araba:\n",
    "    def __init__(self, marka=\"TOFAŞ\", model=\"Hacı Murat\", uretim_yili=1974, \n",
    "                 yakit_cinsi=\"benzin\", yakit_depo_kapasite=45, mevcut_yakit=10):\n",
    "        self.marka = marka\n",
    "        self.model = model\n",
    "        self.uretim_yili = uretim_yili\n",
    "        self.yakit_cinsi = yakit_cinsi\n",
    "        self.yakit_depo_kapasite = yakit_depo_kapasite\n",
    "        self.mevcut_yakit = mevcut_yakit\n",
    "    \n",
    "    \n",
    "    def ozellik_yaz(self):\n",
    "        print(\"Marka:\", self.marka)\n",
    "        print(\"Model:\", self.model)\n",
    "        print(\"Üretim Yılı:\", self.uretim_yili)\n",
    "        print(\"Yakıt cinsi:\", self.yakit_cinsi)\n",
    "        print(\"Depo kapasite:\", self.yakit_depo_kapasite)\n",
    "    \n",
    "    def yakit_al(self, miktar):\n",
    "        if miktar + self.mevcut_yakit <= self.yakit_depo_kapasite:\n",
    "            self.mevcut_yakit += miktar\n",
    "        else:\n",
    "            print(\"Bu kadar yakıt alamam\")\n",
    "            bos = self.yakit_depo_kapasite - self.mevcut_yakit\n",
    "            print(\"En fazla {} litre daha {} doldurabilirsin.\".format(bos,self.yakit_cinsi))\n",
    "        \n",
    "    def ne_kadar_yakit_var(self):\n",
    "        return self.mevcut_yakit\n",
    "    \n",
    "    def kalan_yakiti_yazdir(self):\n",
    "        print(self.mevcut_yakit,\"litre yakıt var.\")\n",
    "        \n",
    "    "
   ]
  },
  {
   "cell_type": "code",
   "execution_count": 2,
   "metadata": {},
   "outputs": [],
   "source": [
    "# Varsayılan özelliklerle araba yaratmak\n",
    "hacı_murat_01 = Araba()"
   ]
  },
  {
   "cell_type": "code",
   "execution_count": 5,
   "metadata": {},
   "outputs": [
    {
     "data": {
      "text/plain": [
       "__main__.Araba"
      ]
     },
     "execution_count": 5,
     "metadata": {},
     "output_type": "execute_result"
    }
   ],
   "source": [
    "type(hacı_murat_01)"
   ]
  },
  {
   "cell_type": "code",
   "execution_count": 3,
   "metadata": {},
   "outputs": [
    {
     "name": "stdout",
     "output_type": "stream",
     "text": [
      "Marka: TOFAŞ\n",
      "Model: Hacı Murat\n",
      "Üretim Yılı: 1974\n",
      "Yakıt cinsi: benzin\n",
      "Depo kapasite: 45\n"
     ]
    }
   ],
   "source": [
    "hacı_murat_01.ozellik_yaz()"
   ]
  },
  {
   "cell_type": "code",
   "execution_count": 4,
   "metadata": {},
   "outputs": [],
   "source": [
    "# Nesne yaratırken elle parametre göndermek\n",
    "mercedes_01 = Araba(marka=\"Mercedes\", model=\"C200\", \n",
    "                     uretim_yili=1979, yakit_cinsi=\"benzin\", \n",
    "                     yakit_depo_kapasite=45.0, mevcut_yakit=25.0)"
   ]
  },
  {
   "cell_type": "code",
   "execution_count": 5,
   "metadata": {},
   "outputs": [
    {
     "name": "stdout",
     "output_type": "stream",
     "text": [
      "Marka: Mercedes\n",
      "Model: C200\n",
      "Üretim Yılı: 1979\n",
      "Yakıt cinsi: benzin\n",
      "Depo kapasite: 45.0\n"
     ]
    }
   ],
   "source": [
    "mercedes_01.ozellik_yaz()"
   ]
  },
  {
   "cell_type": "code",
   "execution_count": 6,
   "metadata": {},
   "outputs": [
    {
     "data": {
      "text/plain": [
       "10"
      ]
     },
     "execution_count": 6,
     "metadata": {},
     "output_type": "execute_result"
    }
   ],
   "source": [
    "hacı_murat_01.ne_kadar_yakit_var()"
   ]
  },
  {
   "cell_type": "code",
   "execution_count": 7,
   "metadata": {},
   "outputs": [],
   "source": [
    "hacı_murat_01.yakit_al(20.0)"
   ]
  },
  {
   "cell_type": "code",
   "execution_count": 8,
   "metadata": {},
   "outputs": [
    {
     "data": {
      "text/plain": [
       "30.0"
      ]
     },
     "execution_count": 8,
     "metadata": {},
     "output_type": "execute_result"
    }
   ],
   "source": [
    "hacı_murat_01.ne_kadar_yakit_var()"
   ]
  },
  {
   "cell_type": "code",
   "execution_count": 9,
   "metadata": {},
   "outputs": [
    {
     "name": "stdout",
     "output_type": "stream",
     "text": [
      "Marka: TOFAŞ\n",
      "Model: Hacı Murat\n",
      "Üretim Yılı: 1974\n",
      "Yakıt cinsi: benzin\n",
      "Depo kapasite: 45\n"
     ]
    }
   ],
   "source": [
    "hacı_murat_01.ozellik_yaz()"
   ]
  },
  {
   "cell_type": "code",
   "execution_count": 10,
   "metadata": {},
   "outputs": [],
   "source": [
    "hacı_murat_01.yakit_al(10.0)"
   ]
  },
  {
   "cell_type": "code",
   "execution_count": 11,
   "metadata": {},
   "outputs": [
    {
     "name": "stdout",
     "output_type": "stream",
     "text": [
      "40.0 litre yakıt var.\n"
     ]
    }
   ],
   "source": [
    "hacı_murat_01.kalan_yakiti_yazdir()"
   ]
  },
  {
   "cell_type": "code",
   "execution_count": 12,
   "metadata": {},
   "outputs": [],
   "source": [
    "murat_131 = Araba(marka=\"Murat\", model=131, \n",
    "                     uretim_yili=1979, yakit_cinsi=\"benzin\", \n",
    "                     yakit_depo_kapasite=45.0, mevcut_yakit=25.0)"
   ]
  },
  {
   "cell_type": "code",
   "execution_count": 13,
   "metadata": {},
   "outputs": [
    {
     "name": "stdout",
     "output_type": "stream",
     "text": [
      "Marka: Murat\n",
      "Model: 131\n",
      "Üretim Yılı: 1979\n",
      "Yakıt cinsi: benzin\n",
      "Depo kapasite: 45.0\n"
     ]
    }
   ],
   "source": [
    "murat_131.ozellik_yaz()"
   ]
  },
  {
   "cell_type": "code",
   "execution_count": 67,
   "metadata": {},
   "outputs": [
    {
     "name": "stdout",
     "output_type": "stream",
     "text": [
      "Bu kadar yakıt alamam\n",
      "En fazla 20.0 litre daha benzin doldurabilirsin\n"
     ]
    }
   ],
   "source": [
    "murat_131.yakit_al(50)"
   ]
  },
  {
   "cell_type": "markdown",
   "metadata": {},
   "source": [
    "# Alıştırma-python_basic: 10"
   ]
  },
  {
   "cell_type": "code",
   "execution_count": 14,
   "metadata": {},
   "outputs": [],
   "source": [
    "# toplam, ortalama, standart_sapma metodlarına sahip bir sınıf yazınız.\n",
    "# Metodlar girdi olarak rakam listesini almalı ve sonuç döndürmelidir."
   ]
  },
  {
   "cell_type": "code",
   "execution_count": null,
   "metadata": {},
   "outputs": [],
   "source": []
  }
 ],
 "metadata": {
  "kernelspec": {
   "display_name": "Python 3",
   "language": "python",
   "name": "python3"
  },
  "language_info": {
   "codemirror_mode": {
    "name": "ipython",
    "version": 3
   },
   "file_extension": ".py",
   "mimetype": "text/x-python",
   "name": "python",
   "nbconvert_exporter": "python",
   "pygments_lexer": "ipython3",
   "version": "3.6.5"
  }
 },
 "nbformat": 4,
 "nbformat_minor": 2
}
