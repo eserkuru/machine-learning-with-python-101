{
 "cells": [
  {
   "cell_type": "markdown",
   "metadata": {},
   "source": [
    "# Dosya Oluşturmak"
   ]
  },
  {
   "cell_type": "markdown",
   "metadata": {},
   "source": [
    "    f = open(dosya_adı, kip)"
   ]
  },
  {
   "cell_type": "markdown",
   "metadata": {},
   "source": [
    "# Yazma kipinde açmak"
   ]
  },
  {
   "cell_type": "code",
   "execution_count": 122,
   "metadata": {},
   "outputs": [],
   "source": [
    "dosya_yazıcı = open(\"D:\\\\yeni_dosya.txt\", \"w\")"
   ]
  },
  {
   "cell_type": "markdown",
   "metadata": {},
   "source": [
    "# Dosya içine yazmak"
   ]
  },
  {
   "cell_type": "code",
   "execution_count": 123,
   "metadata": {},
   "outputs": [],
   "source": [
    "dosya_yazıcı.write(\"İlk satır\\nİkinci satır\\nÜçüncü satır\\n\")\n",
    "dosya_yazıcı.close() # içini görmek için kapatalım ki bellekten diske yazsın."
   ]
  },
  {
   "cell_type": "markdown",
   "metadata": {},
   "source": [
    "# Dosyadan Okumak"
   ]
  },
  {
   "cell_type": "markdown",
   "metadata": {},
   "source": [
    "## read()"
   ]
  },
  {
   "cell_type": "code",
   "execution_count": 124,
   "metadata": {},
   "outputs": [
    {
     "name": "stdout",
     "output_type": "stream",
     "text": [
      "İlk satır\n",
      "İkinci satır\n",
      "Üçüncü satır\n",
      "\n"
     ]
    }
   ],
   "source": [
    "dosya_okuyucu = open(\"D:\\\\yeni_dosya.txt\", \"r\")\n",
    "print(dosya_okuyucu.read())"
   ]
  },
  {
   "cell_type": "code",
   "execution_count": 125,
   "metadata": {},
   "outputs": [
    {
     "name": "stdout",
     "output_type": "stream",
     "text": [
      "\n"
     ]
    }
   ],
   "source": [
    "print(dosya_okuyucu.read())"
   ]
  },
  {
   "cell_type": "markdown",
   "metadata": {},
   "source": [
    "## readlines()"
   ]
  },
  {
   "cell_type": "code",
   "execution_count": 126,
   "metadata": {},
   "outputs": [
    {
     "name": "stdout",
     "output_type": "stream",
     "text": [
      "['İlk satır\\n', 'İkinci satır\\n', 'Üçüncü satır\\n']\n"
     ]
    }
   ],
   "source": [
    "dosya_okuyucu = open(\"D:\\\\yeni_dosya.txt\", \"r\")\n",
    "print(dosya_okuyucu.readlines())"
   ]
  },
  {
   "cell_type": "code",
   "execution_count": 127,
   "metadata": {},
   "outputs": [
    {
     "name": "stdout",
     "output_type": "stream",
     "text": [
      "\n"
     ]
    }
   ],
   "source": [
    "print(dosya_okuyucu.read())"
   ]
  },
  {
   "cell_type": "markdown",
   "metadata": {},
   "source": [
    "## readline()"
   ]
  },
  {
   "cell_type": "code",
   "execution_count": 128,
   "metadata": {},
   "outputs": [
    {
     "name": "stdout",
     "output_type": "stream",
     "text": [
      "İlk satır\n",
      "\n"
     ]
    }
   ],
   "source": [
    "dosya_okuyucu = open(\"D:\\\\yeni_dosya.txt\", \"r\")\n",
    "print(dosya_okuyucu.readline())"
   ]
  },
  {
   "cell_type": "code",
   "execution_count": 129,
   "metadata": {},
   "outputs": [
    {
     "name": "stdout",
     "output_type": "stream",
     "text": [
      "İkinci satır\n",
      "\n"
     ]
    }
   ],
   "source": [
    "print(dosya_okuyucu.readline())"
   ]
  },
  {
   "cell_type": "code",
   "execution_count": 130,
   "metadata": {},
   "outputs": [
    {
     "name": "stdout",
     "output_type": "stream",
     "text": [
      "Üçüncü satır\n",
      "\n"
     ]
    }
   ],
   "source": [
    "print(dosya_okuyucu.read())"
   ]
  },
  {
   "cell_type": "markdown",
   "metadata": {},
   "source": [
    "# Yaygın Kullanım"
   ]
  },
  {
   "cell_type": "code",
   "execution_count": 131,
   "metadata": {},
   "outputs": [
    {
     "name": "stdout",
     "output_type": "stream",
     "text": [
      "İlk satır\n",
      "İkinci satır\n",
      "Üçüncü satır\n",
      "\n"
     ]
    }
   ],
   "source": [
    "with open(\"D:\\\\yeni_dosya.txt\", \"r\") as dosya:\n",
    "    print(dosya.read())"
   ]
  },
  {
   "cell_type": "markdown",
   "metadata": {},
   "source": [
    "    Dosyaları yukarıdaki şekilde açıp üzerlerinde işlemlerimizi yaptığımızda Python dosyayı bizim için kapatır. Ayrıca bir close() satırı yazmaya gerek yok. \n",
    "    with deyimini kullanmamız sayesinde, dosya açıldıktan sonra arada bir hata oluşsa bile Python dosyayı sağsalim kapatıp sistem kaynaklarının israf edilmesini önleyecektir."
   ]
  },
  {
   "cell_type": "markdown",
   "metadata": {},
   "source": [
    "# İçi boş olmayan dosyada değişiklik yapma"
   ]
  },
  {
   "cell_type": "markdown",
   "metadata": {},
   "source": [
    "w tamamen içeriği siliyor ekleme yapmıyor.\n",
    "a parametresi ile ekleme yapabiliriz."
   ]
  },
  {
   "cell_type": "code",
   "execution_count": 132,
   "metadata": {},
   "outputs": [],
   "source": [
    "with open(\"D:\\\\yeni_dosya.txt\", \"a\") as f:\n",
    "    f.write(\"a parametresiyle eklendi\\n\")"
   ]
  },
  {
   "cell_type": "code",
   "execution_count": 133,
   "metadata": {},
   "outputs": [
    {
     "ename": "ValueError",
     "evalue": "I/O operation on closed file.",
     "output_type": "error",
     "traceback": [
      "\u001b[1;31m---------------------------------------------------------------------------\u001b[0m",
      "\u001b[1;31mValueError\u001b[0m                                Traceback (most recent call last)",
      "\u001b[1;32m<ipython-input-133-315c20b774c2>\u001b[0m in \u001b[0;36m<module>\u001b[1;34m\u001b[0m\n\u001b[1;32m----> 1\u001b[1;33m \u001b[0mprint\u001b[0m\u001b[1;33m(\u001b[0m\u001b[0mf\u001b[0m\u001b[1;33m.\u001b[0m\u001b[0mread\u001b[0m\u001b[1;33m(\u001b[0m\u001b[1;33m)\u001b[0m\u001b[1;33m)\u001b[0m\u001b[1;33m\u001b[0m\u001b[1;33m\u001b[0m\u001b[0m\n\u001b[0m",
      "\u001b[1;31mValueError\u001b[0m: I/O operation on closed file."
     ]
    }
   ],
   "source": [
    "print(f.read())"
   ]
  },
  {
   "cell_type": "markdown",
   "metadata": {},
   "source": [
    "Dosya kapandıktan sonra işlem yapamayız. Ayrıca modumuz r değil a."
   ]
  },
  {
   "cell_type": "code",
   "execution_count": 134,
   "metadata": {},
   "outputs": [],
   "source": [
    "with open(\"D:\\\\yeni_dosya.txt\", \"a+\") as f:\n",
    "    f.write(\"a+ ile eklenen başka bir satır\\n\")"
   ]
  },
  {
   "cell_type": "code",
   "execution_count": 137,
   "metadata": {},
   "outputs": [
    {
     "name": "stdout",
     "output_type": "stream",
     "text": [
      "['İlk satır\\n', 'İkinci satır\\n', 'Üçüncü satır\\n', 'a parametresiyle eklendi\\n', 'a+ ile eklenen başka bir satır\\n']\n"
     ]
    }
   ],
   "source": [
    "with open(\"D:\\\\yeni_dosya.txt\", \"r\") as f:\n",
    "    print(f.readlines())"
   ]
  },
  {
   "cell_type": "code",
   "execution_count": null,
   "metadata": {},
   "outputs": [],
   "source": []
  }
 ],
 "metadata": {
  "kernelspec": {
   "display_name": "Python 3",
   "language": "python",
   "name": "python3"
  },
  "language_info": {
   "codemirror_mode": {
    "name": "ipython",
    "version": 3
   },
   "file_extension": ".py",
   "mimetype": "text/x-python",
   "name": "python",
   "nbconvert_exporter": "python",
   "pygments_lexer": "ipython3",
   "version": "3.6.5"
  }
 },
 "nbformat": 4,
 "nbformat_minor": 2
}
