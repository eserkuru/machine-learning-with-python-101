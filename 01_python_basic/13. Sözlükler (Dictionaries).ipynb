{
 "cells": [
  {
   "cell_type": "code",
   "execution_count": 1,
   "metadata": {},
   "outputs": [],
   "source": [
    "sözlük_adı = {\"key\":\"value\",\"key1\":\"value\"}"
   ]
  },
  {
   "cell_type": "code",
   "execution_count": 1,
   "metadata": {},
   "outputs": [],
   "source": [
    "iller_plakalar = {\"Ankara\":6,\n",
    "                 \"İstanbul\":34,\n",
    "                 \"İzmir\":35}"
   ]
  },
  {
   "cell_type": "code",
   "execution_count": 2,
   "metadata": {},
   "outputs": [
    {
     "name": "stdout",
     "output_type": "stream",
     "text": [
      "{'Ankara': 6, 'İstanbul': 34, 'İzmir': 35}\n"
     ]
    }
   ],
   "source": [
    "print(iller_plakalar)"
   ]
  },
  {
   "cell_type": "code",
   "execution_count": 3,
   "metadata": {},
   "outputs": [
    {
     "data": {
      "text/plain": [
       "dict"
      ]
     },
     "execution_count": 3,
     "metadata": {},
     "output_type": "execute_result"
    }
   ],
   "source": [
    "type(iller_plakalar)"
   ]
  },
  {
   "cell_type": "code",
   "execution_count": 5,
   "metadata": {},
   "outputs": [],
   "source": [
    "# Değerler basit veri tipleri olmak zorunda değil"
   ]
  },
  {
   "cell_type": "code",
   "execution_count": 4,
   "metadata": {},
   "outputs": [],
   "source": [
    "iller_ilceler = {\"İstanbul\":[\"Kadıköy\",\"Beşiktaş\",\"Üsküdar\",\"Şişli\"],\n",
    "                \"Ankara\":[\"Çankaya\",\"Mamak\"],\n",
    "                \"İzmir\":[\"Karşıyaka\",\"Konak\"]}"
   ]
  },
  {
   "cell_type": "code",
   "execution_count": 5,
   "metadata": {},
   "outputs": [
    {
     "name": "stdout",
     "output_type": "stream",
     "text": [
      "3\n"
     ]
    }
   ],
   "source": [
    "print(len(iller_ilceler))"
   ]
  },
  {
   "cell_type": "markdown",
   "metadata": {},
   "source": [
    "# uzunluk"
   ]
  },
  {
   "cell_type": "code",
   "execution_count": 8,
   "metadata": {},
   "outputs": [
    {
     "data": {
      "text/plain": [
       "3"
      ]
     },
     "execution_count": 8,
     "metadata": {},
     "output_type": "execute_result"
    }
   ],
   "source": [
    "len(iller_plakalar)"
   ]
  },
  {
   "cell_type": "markdown",
   "metadata": {},
   "source": [
    "# Elemanlara Erişmek"
   ]
  },
  {
   "cell_type": "code",
   "execution_count": 6,
   "metadata": {},
   "outputs": [
    {
     "name": "stdout",
     "output_type": "stream",
     "text": [
      "34\n"
     ]
    }
   ],
   "source": [
    "# İstanbul'un plakası\n",
    "print(iller_plakalar[\"İstanbul\"])"
   ]
  },
  {
   "cell_type": "code",
   "execution_count": 7,
   "metadata": {},
   "outputs": [
    {
     "name": "stdout",
     "output_type": "stream",
     "text": [
      "['Kadıköy', 'Beşiktaş', 'Üsküdar', 'Şişli']\n"
     ]
    }
   ],
   "source": [
    "# İstanbul'un ilçeleri\n",
    "print(iller_ilceler[\"İstanbul\"])"
   ]
  },
  {
   "cell_type": "markdown",
   "metadata": {},
   "source": [
    "# Eleman Eklemek"
   ]
  },
  {
   "cell_type": "code",
   "execution_count": 8,
   "metadata": {},
   "outputs": [
    {
     "name": "stdout",
     "output_type": "stream",
     "text": [
      "{'Ankara': 6, 'İstanbul': 34, 'İzmir': 35, 'Çorum': 19}\n"
     ]
    }
   ],
   "source": [
    "iller_plakalar[\"Çorum\"] = 19\n",
    "print(iller_plakalar)"
   ]
  },
  {
   "cell_type": "code",
   "execution_count": 9,
   "metadata": {},
   "outputs": [
    {
     "name": "stdout",
     "output_type": "stream",
     "text": [
      "{'Ankara': 6, 'İstanbul': 34, 'İzmir': 35, 'Çorum': 19, 'Van': 65}\n"
     ]
    }
   ],
   "source": [
    "iller_plakalar[\"Van\"] = 65\n",
    "print(iller_plakalar)"
   ]
  },
  {
   "cell_type": "code",
   "execution_count": 10,
   "metadata": {},
   "outputs": [
    {
     "name": "stdout",
     "output_type": "stream",
     "text": [
      "{'Ankara': 6, 'İstanbul': 34, 'İzmir': 35, 'Çorum': 19, 'Van': 65, 'Bursa': 16}\n"
     ]
    }
   ],
   "source": [
    "iller_plakalar[\"Bursa\"] = 16\n",
    "print(iller_plakalar)"
   ]
  },
  {
   "cell_type": "markdown",
   "metadata": {},
   "source": [
    "# Elemanın Değerini Değiştirmek"
   ]
  },
  {
   "cell_type": "code",
   "execution_count": 14,
   "metadata": {},
   "outputs": [
    {
     "name": "stdout",
     "output_type": "stream",
     "text": [
      "['Karşıyaka', 'Konak', 'Dikili']\n"
     ]
    }
   ],
   "source": [
    "iller_ilceler[\"İzmir\"] = [\"Karşıyaka\",\"Konak\",\"Dikili\"]\n",
    "print(iller_ilceler[\"İzmir\"])"
   ]
  },
  {
   "cell_type": "markdown",
   "metadata": {},
   "source": [
    "# İterasyon"
   ]
  },
  {
   "cell_type": "code",
   "execution_count": 11,
   "metadata": {},
   "outputs": [
    {
     "name": "stdout",
     "output_type": "stream",
     "text": [
      "Ankara\n",
      "İstanbul\n",
      "İzmir\n",
      "Çorum\n",
      "Van\n",
      "Bursa\n"
     ]
    }
   ],
   "source": [
    "# Sözlüklerde iterasyon anahtar (indeks) üzerinde geçerkleşir\n",
    "for i in iller_plakalar:\n",
    "    print(i)"
   ]
  },
  {
   "cell_type": "code",
   "execution_count": 13,
   "metadata": {},
   "outputs": [
    {
     "name": "stdout",
     "output_type": "stream",
     "text": [
      "Ankara 6\n",
      "İstanbul 34\n",
      "İzmir 35\n",
      "Çorum 19\n",
      "Van 65\n",
      "Bursa 16\n"
     ]
    }
   ],
   "source": [
    "for i in iller_plakalar:\n",
    "    print(i, iller_plakalar[i])"
   ]
  },
  {
   "cell_type": "code",
   "execution_count": 16,
   "metadata": {},
   "outputs": [
    {
     "name": "stdout",
     "output_type": "stream",
     "text": [
      "6\n",
      "34\n",
      "35\n",
      "19\n",
      "65\n",
      "16\n"
     ]
    }
   ],
   "source": [
    "# for döngüsü ile değerlere ulaşmak\n",
    "for i in iller_plakalar:\n",
    "    print(iller_plakalar[i])"
   ]
  },
  {
   "cell_type": "code",
   "execution_count": 19,
   "metadata": {},
   "outputs": [
    {
     "data": {
      "text/plain": [
       "dict_keys(['Ankara', 'İstanbul', 'İzmir', 'Çorum', 'Van', 'Bursa'])"
      ]
     },
     "execution_count": 19,
     "metadata": {},
     "output_type": "execute_result"
    }
   ],
   "source": [
    "# Sözlüklerin kendi metodu var anahtarlara (indeks) ulaşmak için\n",
    "iller_plakalar.keys()"
   ]
  },
  {
   "cell_type": "code",
   "execution_count": 17,
   "metadata": {},
   "outputs": [
    {
     "data": {
      "text/plain": [
       "dict_values([6, 34, 35, 19, 65, 16])"
      ]
     },
     "execution_count": 17,
     "metadata": {},
     "output_type": "execute_result"
    }
   ],
   "source": [
    "# Sözlüklerin kendi metodu var değerlere ulaşmak için\n",
    "iller_plakalar.values()"
   ]
  },
  {
   "cell_type": "markdown",
   "metadata": {},
   "source": [
    "# Dictionary Metotları"
   ]
  },
  {
   "cell_type": "code",
   "execution_count": 16,
   "metadata": {},
   "outputs": [
    {
     "name": "stdout",
     "output_type": "stream",
     "text": [
      "['clear', 'copy', 'fromkeys', 'get', 'items', 'keys', 'pop', 'popitem', 'setdefault', 'update', 'values']\n"
     ]
    }
   ],
   "source": [
    "print([i for i in dir(dict) if \"__\" not in i])"
   ]
  },
  {
   "cell_type": "markdown",
   "metadata": {},
   "source": [
    "## values()"
   ]
  },
  {
   "cell_type": "code",
   "execution_count": null,
   "metadata": {},
   "outputs": [],
   "source": [
    "# Değerlere topluca ulaşmak"
   ]
  },
  {
   "cell_type": "code",
   "execution_count": 17,
   "metadata": {},
   "outputs": [
    {
     "name": "stdout",
     "output_type": "stream",
     "text": [
      "dict_values([6, 34, 35, 19, 65, 16])\n"
     ]
    }
   ],
   "source": [
    "print(iller_plakalar.values())"
   ]
  },
  {
   "cell_type": "code",
   "execution_count": 18,
   "metadata": {},
   "outputs": [
    {
     "name": "stdout",
     "output_type": "stream",
     "text": [
      "['Ankara', 'İstanbul', 'İzmir', 'Çorum', 'Van', 'Bursa']\n"
     ]
    }
   ],
   "source": [
    "# Anahtarlar bir listede toplanabilir\n",
    "illerin_plaka_listesi = list(iller_plakalar.keys())\n",
    "print(illerin_plaka_listesi)"
   ]
  },
  {
   "cell_type": "code",
   "execution_count": 21,
   "metadata": {},
   "outputs": [
    {
     "name": "stdout",
     "output_type": "stream",
     "text": [
      "('Ankara', 'İstanbul', 'İzmir', 'Çorum', 'Van', 'Bursa')\n"
     ]
    }
   ],
   "source": [
    "# Değerler bir tuple içinde toplanabilir\n",
    "illerin_plaka_demeti = tuple(iller_plakalar.keys())\n",
    "print(illerin_plaka_demeti)"
   ]
  },
  {
   "cell_type": "markdown",
   "metadata": {},
   "source": [
    "## keys()"
   ]
  },
  {
   "cell_type": "code",
   "execution_count": 22,
   "metadata": {},
   "outputs": [
    {
     "name": "stdout",
     "output_type": "stream",
     "text": [
      "dict_keys(['Ankara', 'İstanbul', 'İzmir', 'Çorum', 'Van', 'Bursa'])\n"
     ]
    }
   ],
   "source": [
    "#  Anahtarlara Ulaşmak\n",
    "print(iller_plakalar.keys())"
   ]
  },
  {
   "cell_type": "code",
   "execution_count": 23,
   "metadata": {},
   "outputs": [
    {
     "name": "stdout",
     "output_type": "stream",
     "text": [
      "AnkaraİstanbulİzmirÇorumVanBursa\n"
     ]
    }
   ],
   "source": [
    "karakter_dizisi = \"\".join(iller_plakalar.keys())\n",
    "print(karakter_dizisi)"
   ]
  },
  {
   "cell_type": "code",
   "execution_count": 31,
   "metadata": {},
   "outputs": [
    {
     "name": "stdout",
     "output_type": "stream",
     "text": [
      "Ankara, İstanbul, İzmir, Çorum, Van, Bursa\n"
     ]
    }
   ],
   "source": [
    "karakter_dizisi = \", \".join(iller_plakalar.keys())\n",
    "print(karakter_dizisi)"
   ]
  },
  {
   "cell_type": "markdown",
   "metadata": {},
   "source": [
    "# items()"
   ]
  },
  {
   "cell_type": "code",
   "execution_count": 32,
   "metadata": {},
   "outputs": [
    {
     "name": "stdout",
     "output_type": "stream",
     "text": [
      "dict_items([('Ankara', 6), ('İstanbul', 34), ('İzmir', 35), ('Çorum', 19), ('Van', 65), ('Bursa', 16)])\n"
     ]
    }
   ],
   "source": [
    "# items() ile hem anahtar hem değere ulaşırız.\n",
    "print(iller_plakalar.items())"
   ]
  },
  {
   "cell_type": "code",
   "execution_count": 19,
   "metadata": {},
   "outputs": [],
   "source": [
    "item_list = list(iller_ilceler.items())"
   ]
  },
  {
   "cell_type": "code",
   "execution_count": 25,
   "metadata": {},
   "outputs": [
    {
     "data": {
      "text/plain": [
       "['Kadıköy', 'Beşiktaş', 'Üsküdar', 'Şişli']"
      ]
     },
     "execution_count": 25,
     "metadata": {},
     "output_type": "execute_result"
    }
   ],
   "source": [
    "item_list[0][1]"
   ]
  },
  {
   "cell_type": "markdown",
   "metadata": {},
   "source": [
    "# get()"
   ]
  },
  {
   "cell_type": "code",
   "execution_count": 19,
   "metadata": {},
   "outputs": [
    {
     "data": {
      "text/plain": [
       "34"
      ]
     },
     "execution_count": 19,
     "metadata": {},
     "output_type": "execute_result"
    }
   ],
   "source": [
    "iller_plakalar.get(\"İstanbul\")"
   ]
  },
  {
   "cell_type": "markdown",
   "metadata": {},
   "source": [
    "# clear()\n",
    "clear sadece sözlüğün içini temizler"
   ]
  },
  {
   "cell_type": "code",
   "execution_count": 20,
   "metadata": {},
   "outputs": [
    {
     "name": "stdout",
     "output_type": "stream",
     "text": [
      "{'Ankara': 6, 'İstanbul': 34, 'İzmir': 35, 'Çorum': 19, 'Van': 65, 'Bursa': 16}\n"
     ]
    }
   ],
   "source": [
    "print(iller_plakalar)"
   ]
  },
  {
   "cell_type": "code",
   "execution_count": 21,
   "metadata": {},
   "outputs": [],
   "source": [
    "iller_plakalar.clear()"
   ]
  },
  {
   "cell_type": "code",
   "execution_count": 22,
   "metadata": {},
   "outputs": [
    {
     "name": "stdout",
     "output_type": "stream",
     "text": [
      "{}\n"
     ]
    }
   ],
   "source": [
    "print(iller_plakalar)"
   ]
  },
  {
   "cell_type": "markdown",
   "metadata": {},
   "source": [
    "# update()\n",
    "Sözlüğün içeriğini bir vey birden çok eleman için günceller."
   ]
  },
  {
   "cell_type": "code",
   "execution_count": 14,
   "metadata": {},
   "outputs": [
    {
     "name": "stdout",
     "output_type": "stream",
     "text": [
      "{'Ankara': 6, 'İstanbul': 34, 'İzmir': 35, 'Çorum': 19, 'Van': 65, 'Bursa': 16}\n"
     ]
    }
   ],
   "source": [
    "iller_plakalar = {'Ankara': 6, 'İstanbul': 34, 'İzmir': 35, 'Çorum': 19, 'Van': 65, 'Bursa': 16}\n",
    "print(iller_plakalar)"
   ]
  },
  {
   "cell_type": "code",
   "execution_count": 17,
   "metadata": {},
   "outputs": [
    {
     "name": "stdout",
     "output_type": "stream",
     "text": [
      "{'Ankara': 1, 'İstanbul': 34, 'İzmir': 35, 'Çorum': 19, 'Van': '65000', 'Bursa': 16}\n"
     ]
    }
   ],
   "source": [
    "iller_plakalar.update({\"Ankara\":1, \"Van\":\"65000\"})\n",
    "print(iller_plakalar)"
   ]
  },
  {
   "cell_type": "code",
   "execution_count": 16,
   "metadata": {},
   "outputs": [
    {
     "data": {
      "text/plain": [
       "{'Ankara': 1111,\n",
       " 'İstanbul': 34,\n",
       " 'İzmir': 35,\n",
       " 'Çorum': 19,\n",
       " 'Van': 65,\n",
       " 'Bursa': 16}"
      ]
     },
     "execution_count": 16,
     "metadata": {},
     "output_type": "execute_result"
    }
   ],
   "source": [
    "iller_plakalar[\"Ankara\"] = 1111\n",
    "iller_plakalar"
   ]
  },
  {
   "cell_type": "code",
   "execution_count": 29,
   "metadata": {},
   "outputs": [
    {
     "name": "stdout",
     "output_type": "stream",
     "text": [
      "{'Ankara': 6, 'İstanbul': 34, 'İzmir': 35, 'Çorum': 119, 'Van': 65, 'Bursa': 16}\n"
     ]
    }
   ],
   "source": [
    "to_be_updated = {\"Ankara\":6, \"Çorum\":119}\n",
    "iller_plakalar.update(to_be_updated)\n",
    "print(iller_plakalar)"
   ]
  },
  {
   "cell_type": "markdown",
   "metadata": {},
   "source": [
    "# Ödev-8"
   ]
  },
  {
   "cell_type": "code",
   "execution_count": null,
   "metadata": {},
   "outputs": [],
   "source": [
    "iller_ilceler = {\"İstanbul\":[\"Kadıköy\",\"Beşiktaş\",\"Üsküdar\",\"Şişli\"],\n",
    "                \"Ankara\":[\"Çankaya\",{\"Mamak\":['Merkez','Saimekadın','Boğaziçi']}],\n",
    "                \"İzmir\":[\"Karşıyaka\",\"Konak\"]}"
   ]
  },
  {
   "cell_type": "code",
   "execution_count": 2,
   "metadata": {},
   "outputs": [],
   "source": [
    "# 8.1. Yukarıdaki sözlük içinden Saimekadın mahallesine erişelim"
   ]
  },
  {
   "cell_type": "code",
   "execution_count": null,
   "metadata": {},
   "outputs": [],
   "source": [
    "# 8.2. Yukarıdaki sözlükte İzmir' Urla ilçesini ekleyiniz"
   ]
  }
 ],
 "metadata": {
  "kernelspec": {
   "display_name": "Python 3",
   "language": "python",
   "name": "python3"
  },
  "language_info": {
   "codemirror_mode": {
    "name": "ipython",
    "version": 3
   },
   "file_extension": ".py",
   "mimetype": "text/x-python",
   "name": "python",
   "nbconvert_exporter": "python",
   "pygments_lexer": "ipython3",
   "version": "3.6.5"
  }
 },
 "nbformat": 4,
 "nbformat_minor": 2
}
