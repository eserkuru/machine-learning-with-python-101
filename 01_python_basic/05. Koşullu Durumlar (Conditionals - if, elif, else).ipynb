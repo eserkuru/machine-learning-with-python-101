{
 "cells": [
  {
   "cell_type": "markdown",
   "metadata": {},
   "source": [
    "# if else"
   ]
  },
  {
   "cell_type": "markdown",
   "metadata": {},
   "source": [
    "     if sınama:\n",
    "        sınama geçerliyse yapılacak iş\n",
    "    else:\n",
    "        sınama geçerli değilse yapılacak iş"
   ]
  },
  {
   "cell_type": "markdown",
   "metadata": {},
   "source": [
    "# if elif else"
   ]
  },
  {
   "cell_type": "markdown",
   "metadata": {},
   "source": [
    "     if sınama1:\n",
    "        sınama1 geçerliyse yapılacak iş.\n",
    "    elif sınama2:\n",
    "        sınama2 geçerliyse yapılacak iş.\n",
    "    else:\n",
    "        Her iki sınama da geçerli değilse yapılacak iş"
   ]
  },
  {
   "cell_type": "markdown",
   "metadata": {},
   "source": [
    "# Örnek"
   ]
  },
  {
   "cell_type": "code",
   "execution_count": 4,
   "metadata": {},
   "outputs": [
    {
     "name": "stdout",
     "output_type": "stream",
     "text": [
      "Bir sayı giriniz:0\n"
     ]
    }
   ],
   "source": [
    "sayı = input(\"Bir sayı giriniz:\")\n",
    "sayı = int(sayı)"
   ]
  },
  {
   "cell_type": "code",
   "execution_count": 2,
   "metadata": {},
   "outputs": [
    {
     "name": "stdout",
     "output_type": "stream",
     "text": [
      "6 poztiftir.\n"
     ]
    }
   ],
   "source": [
    "if sayı > 0:\n",
    "    print(sayı, \"poztiftir.\")\n",
    "else:\n",
    "    print(sayı, \"negatiftir.\")"
   ]
  },
  {
   "cell_type": "markdown",
   "metadata": {},
   "source": [
    "# Lütfen Girinti ve :'ye dikkat!!!!!!!!!"
   ]
  },
  {
   "cell_type": "code",
   "execution_count": 5,
   "metadata": {},
   "outputs": [
    {
     "name": "stdout",
     "output_type": "stream",
     "text": [
      "0 sıfırdır.\n"
     ]
    }
   ],
   "source": [
    "if sayı > 0:\n",
    "    print(sayı, \"poztiftir.\")\n",
    "elif sayı == 0:\n",
    "    print(sayı, \"sıfırdır.\")\n",
    "else:\n",
    "    print(sayı, \"negatiftir.\")\n",
    "    "
   ]
  },
  {
   "cell_type": "code",
   "execution_count": null,
   "metadata": {},
   "outputs": [],
   "source": []
  }
 ],
 "metadata": {
  "kernelspec": {
   "display_name": "Python 3",
   "language": "python",
   "name": "python3"
  },
  "language_info": {
   "codemirror_mode": {
    "name": "ipython",
    "version": 3
   },
   "file_extension": ".py",
   "mimetype": "text/x-python",
   "name": "python",
   "nbconvert_exporter": "python",
   "pygments_lexer": "ipython3",
   "version": "3.6.5"
  }
 },
 "nbformat": 4,
 "nbformat_minor": 2
}
