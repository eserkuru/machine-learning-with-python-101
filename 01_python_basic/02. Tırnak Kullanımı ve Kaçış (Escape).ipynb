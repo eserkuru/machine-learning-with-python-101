{
 "cells": [
  {
   "cell_type": "markdown",
   "metadata": {},
   "source": [
    "Python bir verinin karakter dizisi olup olmadığına bu tırnak işaretlerine bakarak karar verdiği için, tek, çift ve üç tırnak işaretleri Python açısından özel bir önem taşıyor. Zira Python’ın gözünde bir başlangıç tırnağı ile bitiş tırnağı arasında yer alan her şey bir karakter dizisidir."
   ]
  },
  {
   "cell_type": "code",
   "execution_count": 1,
   "metadata": {},
   "outputs": [
    {
     "name": "stdout",
     "output_type": "stream",
     "text": [
      "normal kullanım\n"
     ]
    }
   ],
   "source": [
    "print(\"normal kullanım\")"
   ]
  },
  {
   "cell_type": "code",
   "execution_count": 2,
   "metadata": {},
   "outputs": [
    {
     "name": "stdout",
     "output_type": "stream",
     "text": [
      "Ankara'da yaşıyorum\n"
     ]
    }
   ],
   "source": [
    "print(\"Ankara'da yaşıyorum\")"
   ]
  },
  {
   "cell_type": "code",
   "execution_count": 3,
   "metadata": {},
   "outputs": [
    {
     "name": "stdout",
     "output_type": "stream",
     "text": [
      "İstanbul merhaba\n"
     ]
    }
   ],
   "source": [
    "print('İstanbul merhaba')"
   ]
  },
  {
   "cell_type": "code",
   "execution_count": 5,
   "metadata": {},
   "outputs": [
    {
     "name": "stdout",
     "output_type": "stream",
     "text": [
      "Ankara'da yaşıyorum\n"
     ]
    }
   ],
   "source": [
    "# yanlış kullanım\n",
    "print('Ankara\\'da yaşıyorum')"
   ]
  },
  {
   "cell_type": "code",
   "execution_count": 6,
   "metadata": {},
   "outputs": [
    {
     "name": "stdout",
     "output_type": "stream",
     "text": [
      " 'car' Türkçe'de 'araba' anlamına gelir \n"
     ]
    }
   ],
   "source": [
    "print(\" 'car' Türkçe'de 'araba' anlamına gelir \")"
   ]
  },
  {
   "cell_type": "code",
   "execution_count": 7,
   "metadata": {},
   "outputs": [
    {
     "name": "stdout",
     "output_type": "stream",
     "text": [
      "Özge: \"Dün hiç çalışamadım\" dedi.\n"
     ]
    }
   ],
   "source": [
    "print('Özge: \"Dün hiç çalışamadım\" dedi.')"
   ]
  },
  {
   "cell_type": "code",
   "execution_count": 8,
   "metadata": {},
   "outputs": [
    {
     "name": "stdout",
     "output_type": "stream",
     "text": [
      " Özge: \"Dün hiç çalışamadım\" dedi.\n"
     ]
    }
   ],
   "source": [
    "print(\"\"\" Özge: \"Dün hiç çalışamadım\" dedi.\"\"\")"
   ]
  },
  {
   "cell_type": "markdown",
   "metadata": {},
   "source": [
    "Python’ın gözünde tırnak işaretleri bir karakter dizisini başka veri tiplerinden ayırt etmeye yarayan bir ölçüttür."
   ]
  },
  {
   "cell_type": "markdown",
   "metadata": {},
   "source": [
    "# Kaçış"
   ]
  },
  {
   "cell_type": "code",
   "execution_count": 9,
   "metadata": {},
   "outputs": [
    {
     "name": "stdout",
     "output_type": "stream",
     "text": [
      "Ankara'da yaşıyorum\n"
     ]
    }
   ],
   "source": [
    "# Doğru kullanım\n",
    "print('Ankara\\'da yaşıyorum')"
   ]
  },
  {
   "cell_type": "code",
   "execution_count": 10,
   "metadata": {},
   "outputs": [
    {
     "name": "stdout",
     "output_type": "stream",
     "text": [
      "\"book\" kelimesi Türkçede \"kitap\" anlamına gelir.\n"
     ]
    }
   ],
   "source": [
    "print(\"\\\"book\\\" kelimesi Türkçede \\\"kitap\\\" anlamına gelir.\")"
   ]
  },
  {
   "cell_type": "markdown",
   "metadata": {},
   "source": [
    "Python karakter dizisini başlatan bu tek tırnak işaretini gördüğü zaman, soldan sağa doğru ilerleyerek karakter dizisini (string) bitirecek olan tek tırnak işaretini aramaya başlar. \\ işareti aradığın işaret bu değil. Sen karakter dizisini okumaya devam et anlamına gelir."
   ]
  },
  {
   "cell_type": "markdown",
   "metadata": {},
   "source": [
    "# Kaçış İşareti ile Karakter Dizisi Bölme"
   ]
  },
  {
   "cell_type": "code",
   "execution_count": 11,
   "metadata": {},
   "outputs": [
    {
     "name": "stdout",
     "output_type": "stream",
     "text": [
      "Bu birinci satır Bu ikinci satır Son satır\n"
     ]
    }
   ],
   "source": [
    "print(\"Bu birinci satır \\\n",
    "Bu ikinci satır \\\n",
    "Son satır\")"
   ]
  },
  {
   "cell_type": "markdown",
   "metadata": {},
   "source": [
    "# Satır Başı (\\n)"
   ]
  },
  {
   "cell_type": "code",
   "execution_count": 12,
   "metadata": {},
   "outputs": [
    {
     "name": "stdout",
     "output_type": "stream",
     "text": [
      "Bu birinci satır \n",
      "Bu ikinci satır \n",
      "Son satır\n"
     ]
    }
   ],
   "source": [
    "print(\"Bu birinci satır \\nBu ikinci satır \\nSon satır\")"
   ]
  },
  {
   "cell_type": "markdown",
   "metadata": {},
   "source": [
    "# Öğrendiklerimizi Birleştirelim"
   ]
  },
  {
   "cell_type": "code",
   "execution_count": 13,
   "metadata": {},
   "outputs": [
    {
     "name": "stdout",
     "output_type": "stream",
     "text": [
      "Ben bir altı çizgili Metin'im. \n",
      " ------------------------------\n"
     ]
    }
   ],
   "source": [
    "metin = \"Ben bir altı çizgili Metin'im.\"\n",
    "print(metin, \"\\n\", \"-\"*len(metin))"
   ]
  },
  {
   "cell_type": "code",
   "execution_count": 14,
   "metadata": {},
   "outputs": [
    {
     "data": {
      "text/plain": [
       "30"
      ]
     },
     "execution_count": 14,
     "metadata": {},
     "output_type": "execute_result"
    }
   ],
   "source": [
    "len(metin)"
   ]
  },
  {
   "cell_type": "markdown",
   "metadata": {},
   "source": [
    "# \\n olmasaydı"
   ]
  },
  {
   "cell_type": "code",
   "execution_count": 28,
   "metadata": {},
   "outputs": [
    {
     "name": "stdout",
     "output_type": "stream",
     "text": [
      "Ben bir altı çizgili Metin'im. ------------------------------\n"
     ]
    }
   ],
   "source": [
    "print(metin, \"-\"*len(metin))"
   ]
  },
  {
   "cell_type": "markdown",
   "metadata": {},
   "source": [
    "# sep "
   ]
  },
  {
   "cell_type": "code",
   "execution_count": 29,
   "metadata": {},
   "outputs": [
    {
     "name": "stdout",
     "output_type": "stream",
     "text": [
      "Ben bir altı çizgili Metin'im.\n",
      "------------------------------\n"
     ]
    }
   ],
   "source": [
    "print(metin, \"\\n\", \"-\"*len(metin), sep=\"\")"
   ]
  },
  {
   "cell_type": "markdown",
   "metadata": {},
   "source": [
    "Çizginin başındaki bir karakterin daha gittiğine dikkat ediniz."
   ]
  },
  {
   "cell_type": "markdown",
   "metadata": {},
   "source": [
    "# Kaçıştan kaçmak"
   ]
  },
  {
   "cell_type": "code",
   "execution_count": 15,
   "metadata": {},
   "outputs": [
    {
     "name": "stdout",
     "output_type": "stream",
     "text": [
      "C:\\Documents\n",
      "ormal\\olmayanlar\n"
     ]
    }
   ],
   "source": [
    "dosya_yolu = \"C:\\Documents\\normal\\olmayanlar\"\n",
    "print(dosya_yolu)"
   ]
  },
  {
   "cell_type": "markdown",
   "metadata": {},
   "source": [
    "Kaçış karakterinden kaçış karakteri ile kaçabiliriz"
   ]
  },
  {
   "cell_type": "code",
   "execution_count": 16,
   "metadata": {},
   "outputs": [
    {
     "name": "stdout",
     "output_type": "stream",
     "text": [
      "C:\\Documents\\normal\\olmayanlar\n"
     ]
    }
   ],
   "source": [
    "dosya_yolu2 = \"C:\\Documents\\\\normal\\olmayanlar\"\n",
    "print(dosya_yolu2)"
   ]
  },
  {
   "cell_type": "code",
   "execution_count": 32,
   "metadata": {},
   "outputs": [
    {
     "name": "stdout",
     "output_type": "stream",
     "text": [
      "C:\\Documents\toplamlar\\olmayanlar\n"
     ]
    }
   ],
   "source": [
    "dosya_yolu3 = \"C:\\Documents\\toplamlar\\olmayanlar\"\n",
    "print(dosya_yolu3)"
   ]
  },
  {
   "cell_type": "code",
   "execution_count": 33,
   "metadata": {},
   "outputs": [
    {
     "name": "stdout",
     "output_type": "stream",
     "text": [
      "C:\\Documents\\toplamlar\\olmayanlar\n"
     ]
    }
   ],
   "source": [
    "dosya_yolu4 = \"C:\\Documents\\\\toplamlar\\olmayanlar\"\n",
    "print(dosya_yolu4)"
   ]
  },
  {
   "cell_type": "markdown",
   "metadata": {},
   "source": [
    "İçimiz rahat olsun hepsinden kaçalım"
   ]
  },
  {
   "cell_type": "code",
   "execution_count": 17,
   "metadata": {},
   "outputs": [
    {
     "name": "stdout",
     "output_type": "stream",
     "text": [
      "C:\\Documents\\toplamlar\\olmayanlar\n"
     ]
    }
   ],
   "source": [
    "dosya_yolu5 = \"C:\\\\Documents\\\\toplamlar\\\\olmayanlar\"\n",
    "print(dosya_yolu5)"
   ]
  },
  {
   "cell_type": "code",
   "execution_count": 18,
   "metadata": {},
   "outputs": [
    {
     "name": "stdout",
     "output_type": "stream",
     "text": [
      "C:/Documents/toplamlar/olmayanlar\n"
     ]
    }
   ],
   "source": [
    "dosya_yolu6 = \"C:/Documents/toplamlar/olmayanlar\"\n",
    "print(dosya_yolu6)"
   ]
  },
  {
   "cell_type": "code",
   "execution_count": 19,
   "metadata": {},
   "outputs": [
    {
     "name": "stdout",
     "output_type": "stream",
     "text": [
      "datalonga . com\n"
     ]
    }
   ],
   "source": [
    "alan_adi = \"datalonga\"\n",
    "uzantisi = \"com\"\n",
    "print(alan_adi,\".\",uzantisi)"
   ]
  },
  {
   "cell_type": "code",
   "execution_count": 17,
   "metadata": {},
   "outputs": [
    {
     "name": "stdout",
     "output_type": "stream",
     "text": [
      "istihza.com\n"
     ]
    }
   ],
   "source": [
    "print('istihza', '.', 'com', sep='')"
   ]
  },
  {
   "cell_type": "code",
   "execution_count": null,
   "metadata": {},
   "outputs": [],
   "source": []
  }
 ],
 "metadata": {
  "kernelspec": {
   "display_name": "Python 3",
   "language": "python",
   "name": "python3"
  },
  "language_info": {
   "codemirror_mode": {
    "name": "ipython",
    "version": 3
   },
   "file_extension": ".py",
   "mimetype": "text/x-python",
   "name": "python",
   "nbconvert_exporter": "python",
   "pygments_lexer": "ipython3",
   "version": "3.6.5"
  }
 },
 "nbformat": 4,
 "nbformat_minor": 2
}
