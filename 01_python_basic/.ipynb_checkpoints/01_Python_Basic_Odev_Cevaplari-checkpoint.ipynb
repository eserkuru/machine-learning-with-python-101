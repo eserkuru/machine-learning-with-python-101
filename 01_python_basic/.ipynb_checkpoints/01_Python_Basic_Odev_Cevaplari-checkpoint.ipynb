{
 "cells": [
  {
   "cell_type": "markdown",
   "metadata": {},
   "source": [
    "# Alıştırma-1"
   ]
  },
  {
   "cell_type": "markdown",
   "metadata": {},
   "source": [
    "Kullanıcıdan 2 rakam alan ve toplamını ekrana yazan bir python programı yazınız."
   ]
  },
  {
   "cell_type": "code",
   "execution_count": 1,
   "metadata": {
    "scrolled": true
   },
   "outputs": [
    {
     "name": "stdout",
     "output_type": "stream",
     "text": [
      "İlk sayı:5\n",
      "İkinci sayı:3\n",
      "Girdiğiniz iki sayının toplamı: 8\n"
     ]
    }
   ],
   "source": [
    "rakam1 = input(\"İlk sayı:\")\n",
    "rakam2 = input(\"İkinci sayı:\")\n",
    "toplam = int(rakam1) + int(rakam2)\n",
    "print(\"Girdiğiniz iki sayının toplamı:\", toplam)"
   ]
  },
  {
   "cell_type": "markdown",
   "metadata": {},
   "source": [
    "# Alıştırma-2"
   ]
  },
  {
   "cell_type": "markdown",
   "metadata": {},
   "source": [
    "    Kullanıcıdan girdi olarak alınan rakam notun harf karşılığını ekrana yazdıran bir program yazınız.\n",
    "\n",
    "    90-100 arası A\n",
    "    80-89 arası B\n",
    "    70-79 arası C\n",
    "    60-69 arası D\n",
    "    50-59 arası E\n",
    "    0-49 arası F"
   ]
  },
  {
   "cell_type": "code",
   "execution_count": 5,
   "metadata": {},
   "outputs": [
    {
     "name": "stdout",
     "output_type": "stream",
     "text": [
      "Notu giriniz: 81\n",
      "B\n"
     ]
    }
   ],
   "source": [
    "harf_not = \"\"\n",
    "ders_notu = input(\"Notu giriniz: \")\n",
    "try:\n",
    "    ders_notu2 = int(ders_notu)\n",
    "    if ders_notu2 > 100 or ders_notu2 <0:\n",
    "        harf_not=\"Lütfen 0-100 arası bir rakam giriniz.\"\n",
    "    elif ders_notu2 >= 90:\n",
    "        harf_not = \"A\"\n",
    "    elif ders_notu2 > 80:\n",
    "        harf_not = \"B\"\n",
    "    elif ders_notu2 > 70:\n",
    "        harf_not = \"C\"\n",
    "    elif ders_notu2 > 60:\n",
    "        harf_not = \"D\"\n",
    "    elif ders_notu2 > 50:\n",
    "        harf_not = \"E\"\n",
    "    else: harf_not = \"F\"  \n",
    "    \n",
    "    print(harf_not)\n",
    "except ValueError:\n",
    "    print(\"Lütfen sadece rakam giriniz.\")"
   ]
  },
  {
   "cell_type": "markdown",
   "metadata": {},
   "source": [
    "# Alıştırma-3"
   ]
  },
  {
   "cell_type": "code",
   "execution_count": 5,
   "metadata": {},
   "outputs": [],
   "source": [
    "# 0-20 arasında 3'e tam bölünebilen sayıları for döngüsü kullanarak yazdırınız."
   ]
  },
  {
   "cell_type": "code",
   "execution_count": 6,
   "metadata": {},
   "outputs": [
    {
     "name": "stdout",
     "output_type": "stream",
     "text": [
      "0\n",
      "3\n",
      "6\n",
      "9\n",
      "12\n",
      "15\n",
      "18\n"
     ]
    }
   ],
   "source": [
    "for i in range(20):\n",
    "    if(i % 3 == 0):\n",
    "        print(i)"
   ]
  },
  {
   "cell_type": "code",
   "execution_count": 7,
   "metadata": {},
   "outputs": [
    {
     "name": "stdout",
     "output_type": "stream",
     "text": [
      "0\n",
      "3\n",
      "6\n",
      "9\n",
      "12\n",
      "15\n",
      "18\n"
     ]
    }
   ],
   "source": [
    "start = 0\n",
    "stop = 20\n",
    "while stop > start:\n",
    "    if(start % 3 == 0):\n",
    "        print(start)\n",
    "    start += 1"
   ]
  },
  {
   "cell_type": "markdown",
   "metadata": {},
   "source": [
    "# Alıştırma-4"
   ]
  },
  {
   "cell_type": "code",
   "execution_count": 10,
   "metadata": {},
   "outputs": [
    {
     "name": "stdout",
     "output_type": "stream",
     "text": [
      "Muz\n"
     ]
    }
   ],
   "source": [
    "# Muz elemanına erişim\n",
    "my_list = [1,3,[\"Elma\",\"Muz\"], 25,198, [22,32]]\n",
    "\n",
    "print(my_list[2][1])"
   ]
  },
  {
   "cell_type": "markdown",
   "metadata": {},
   "source": [
    "# Alıştırma-5"
   ]
  },
  {
   "cell_type": "code",
   "execution_count": 8,
   "metadata": {},
   "outputs": [],
   "source": [
    "# dir(list) içindeki \"__\" içermeyen metodları filtreleyiniz."
   ]
  },
  {
   "cell_type": "code",
   "execution_count": 9,
   "metadata": {},
   "outputs": [
    {
     "name": "stdout",
     "output_type": "stream",
     "text": [
      "['append', 'clear', 'copy', 'count', 'extend', 'index', 'insert', 'pop', 'remove', 'reverse', 'sort']\n"
     ]
    }
   ],
   "source": [
    "without_ =[]\n",
    "for word in dir(list):\n",
    "    if \"__\" not in word:\n",
    "        without_.append(word)\n",
    "\n",
    "print(without_)"
   ]
  },
  {
   "cell_type": "markdown",
   "metadata": {},
   "source": [
    "# Alıştırma-6"
   ]
  },
  {
   "cell_type": "code",
   "execution_count": 11,
   "metadata": {},
   "outputs": [],
   "source": [
    "# ['Emel','Ali','Mehtap','Soner','Fatma'] listesinden Mehtap ismini çıkarıp yerine Menşure'yi ekleyiniz."
   ]
  },
  {
   "cell_type": "code",
   "execution_count": 12,
   "metadata": {},
   "outputs": [],
   "source": [
    "listem = ['Emel','Ali','Mehtap','Soner','Fatma'] "
   ]
  },
  {
   "cell_type": "code",
   "execution_count": 14,
   "metadata": {},
   "outputs": [
    {
     "name": "stdout",
     "output_type": "stream",
     "text": [
      "['Emel', 'Ali', 'Menşure', 'Soner', 'Fatma']\n"
     ]
    }
   ],
   "source": [
    "for i in range(len(listem)):\n",
    "    if listem[i] == 'Mehtap':\n",
    "        listem[i] = 'Menşure'\n",
    "\n",
    "print(listem)"
   ]
  },
  {
   "cell_type": "markdown",
   "metadata": {},
   "source": [
    "# Alıştırma-7"
   ]
  },
  {
   "cell_type": "code",
   "execution_count": 15,
   "metadata": {},
   "outputs": [],
   "source": [
    "# [22, 36, 45, 62, 39, 10, 25] listesi içindeki tek ve çift sayıları iki farklı liste içine ayrıştırınız."
   ]
  },
  {
   "cell_type": "code",
   "execution_count": 16,
   "metadata": {},
   "outputs": [],
   "source": [
    "ana_liste = [22, 36, 45, 62, 39, 10, 25]\n",
    "ciftler = []\n",
    "tekler = []\n",
    "\n",
    "for i in ana_liste:\n",
    "    if i % 2 == 0:\n",
    "        ciftler.append(i)\n",
    "    else: tekler.append(i)"
   ]
  },
  {
   "cell_type": "code",
   "execution_count": 17,
   "metadata": {},
   "outputs": [
    {
     "name": "stdout",
     "output_type": "stream",
     "text": [
      "[22, 36, 62, 10]\n",
      "[45, 39, 25]\n"
     ]
    }
   ],
   "source": [
    "print(ciftler)\n",
    "print(tekler)"
   ]
  },
  {
   "cell_type": "markdown",
   "metadata": {},
   "source": [
    "# Alıştırma-8"
   ]
  },
  {
   "cell_type": "code",
   "execution_count": 25,
   "metadata": {},
   "outputs": [],
   "source": [
    "iller_ilceler = {\"İstanbul\":[\"Kadıköy\",\"Beşiktaş\",\"Üsküdar\",\"Şişli\"],\n",
    "                \"Ankara\":[\"Çankaya\",{\"Mamak\":['Merkez','Saimekadın','Boğaziçi']}],\n",
    "                \"İzmir\":[\"Karşıyaka\",\"Konak\"]}"
   ]
  },
  {
   "cell_type": "code",
   "execution_count": 23,
   "metadata": {},
   "outputs": [],
   "source": [
    "# 8.1. Yukarıdaki sözlük içinden Saimekadın mahallesine erişelim"
   ]
  },
  {
   "cell_type": "code",
   "execution_count": 26,
   "metadata": {},
   "outputs": [
    {
     "data": {
      "text/plain": [
       "['Çankaya', {'Mamak': ['Merkez', 'Saimekadın', 'Boğaziçi']}]"
      ]
     },
     "execution_count": 26,
     "metadata": {},
     "output_type": "execute_result"
    }
   ],
   "source": [
    "# Adım-1\n",
    "iller_ilceler[\"Ankara\"]"
   ]
  },
  {
   "cell_type": "code",
   "execution_count": 27,
   "metadata": {},
   "outputs": [
    {
     "data": {
      "text/plain": [
       "{'Mamak': ['Merkez', 'Saimekadın', 'Boğaziçi']}"
      ]
     },
     "execution_count": 27,
     "metadata": {},
     "output_type": "execute_result"
    }
   ],
   "source": [
    "# Adım-2\n",
    "iller_ilceler[\"Ankara\"][1]"
   ]
  },
  {
   "cell_type": "code",
   "execution_count": 28,
   "metadata": {},
   "outputs": [
    {
     "data": {
      "text/plain": [
       "['Merkez', 'Saimekadın', 'Boğaziçi']"
      ]
     },
     "execution_count": 28,
     "metadata": {},
     "output_type": "execute_result"
    }
   ],
   "source": [
    "# Adım-3\n",
    "iller_ilceler[\"Ankara\"][1][\"Mamak\"]"
   ]
  },
  {
   "cell_type": "code",
   "execution_count": 29,
   "metadata": {},
   "outputs": [
    {
     "data": {
      "text/plain": [
       "'Saimekadın'"
      ]
     },
     "execution_count": 29,
     "metadata": {},
     "output_type": "execute_result"
    }
   ],
   "source": [
    "# Adım-4\n",
    "iller_ilceler[\"Ankara\"][1][\"Mamak\"][1]"
   ]
  },
  {
   "cell_type": "code",
   "execution_count": 32,
   "metadata": {},
   "outputs": [],
   "source": [
    "# 8.2. Yukarıdaki sözlükte İzmir' Urla ilçesini ekleyiniz."
   ]
  },
  {
   "cell_type": "code",
   "execution_count": 30,
   "metadata": {},
   "outputs": [],
   "source": [
    "iller_ilceler[\"İzmir\"].append(\"Urla\")"
   ]
  },
  {
   "cell_type": "code",
   "execution_count": 31,
   "metadata": {},
   "outputs": [
    {
     "name": "stdout",
     "output_type": "stream",
     "text": [
      "{'İstanbul': ['Kadıköy', 'Beşiktaş', 'Üsküdar', 'Şişli'], 'Ankara': ['Çankaya', {'Mamak': ['Merkez', 'Saimekadın', 'Boğaziçi']}], 'İzmir': ['Karşıyaka', 'Konak', 'Urla']}\n"
     ]
    }
   ],
   "source": [
    "print(iller_ilceler)"
   ]
  },
  {
   "cell_type": "markdown",
   "metadata": {},
   "source": [
    "# Alıştırma-9"
   ]
  },
  {
   "cell_type": "markdown",
   "metadata": {},
   "source": [
    "    Bir üniversite öğrencisinin mezuniyet başarısı sadece diploma notuna göre değil çeşitli faktörlere göre belirlenmektedir.\n",
    "    Ancak tüm öğrenciler diploma notuna sahip olmasına rağmen bazı öğrenciler bazı aktivitelerden puanı varken bazılarının yoktur.\n",
    "    Örneğin;\n",
    "    Ahmet basketbol ve yüzme takımlarındadır\n",
    "    Ayşe ise sadece resimle uğraşmıştır\n",
    "    Fulya gönüllü organizasyonlarda görev almıştır\n",
    "    Tuna okul caz grubunda bas gitar çalmaktadır\n",
    "    Gündüz hiç bir etkinliğe katılmamıştır.\n",
    "\n",
    "    Her öğrencinin yaptığı bu faaliyetlerin rakamlarla ölçülebildiği varsayılmaktadır.\n",
    "    Öğrenci başarıları diploma notuna faaliyet puanlarının eklenmesiyle belirlenmektedir.\n",
    "    Öğrenci başarısını hesaplayan fonksiyonu yazınız."
   ]
  },
  {
   "cell_type": "code",
   "execution_count": 20,
   "metadata": {},
   "outputs": [],
   "source": [
    "def basari(diploma_notu, *args):\n",
    "    \n",
    "    diger_toplam = 0\n",
    "    diger_toplam = sum(i for i in args)\n",
    "    return diploma_notu + diger_toplam"
   ]
  },
  {
   "cell_type": "code",
   "execution_count": 25,
   "metadata": {},
   "outputs": [
    {
     "data": {
      "text/plain": [
       "4.09"
      ]
     },
     "execution_count": 25,
     "metadata": {},
     "output_type": "execute_result"
    }
   ],
   "source": [
    "basari(3.75,0.11,0.23)"
   ]
  },
  {
   "cell_type": "code",
   "execution_count": 12,
   "metadata": {},
   "outputs": [
    {
     "data": {
      "text/plain": [
       "3"
      ]
     },
     "execution_count": 12,
     "metadata": {},
     "output_type": "execute_result"
    }
   ],
   "source": [
    "basari(3)"
   ]
  },
  {
   "cell_type": "code",
   "execution_count": 13,
   "metadata": {},
   "outputs": [
    {
     "data": {
      "text/plain": [
       "114"
      ]
     },
     "execution_count": 13,
     "metadata": {},
     "output_type": "execute_result"
    }
   ],
   "source": [
    "basari(3,5,4,3,6,7,8,9,6,56,5,2)"
   ]
  },
  {
   "cell_type": "code",
   "execution_count": null,
   "metadata": {},
   "outputs": [],
   "source": []
  }
 ],
 "metadata": {
  "kernelspec": {
   "display_name": "Python 3",
   "language": "python",
   "name": "python3"
  },
  "language_info": {
   "codemirror_mode": {
    "name": "ipython",
    "version": 3
   },
   "file_extension": ".py",
   "mimetype": "text/x-python",
   "name": "python",
   "nbconvert_exporter": "python",
   "pygments_lexer": "ipython3",
   "version": "3.6.5"
  }
 },
 "nbformat": 4,
 "nbformat_minor": 2
}
