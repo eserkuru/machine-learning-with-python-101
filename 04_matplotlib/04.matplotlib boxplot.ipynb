{
 "cells": [
  {
   "cell_type": "markdown",
   "metadata": {},
   "source": [
    "    Kutu grafiği, ayrıca kutu ve bıyık grafiği olarak da adlandırılır: beş sayılık özete dayalı olarak değerlerin dağılımını göstermenin bir yolu: minimum, ilk çeyrek, medyan, üçüncü çeyrek ve maksimum."
   ]
  },
  {
   "cell_type": "code",
   "execution_count": 1,
   "metadata": {},
   "outputs": [],
   "source": [
    "import numpy as np\n",
    "import matplotlib.pyplot as plt\n",
    "%matplotlib inline"
   ]
  },
  {
   "cell_type": "code",
   "execution_count": 2,
   "metadata": {},
   "outputs": [
    {
     "data": {
      "image/png": "[encoded data removed]",
      "text/plain": [
       "<Figure size 360x360 with 1 Axes>"
      ]
     },
     "metadata": {
      "needs_background": "light"
     },
     "output_type": "display_data"
    }
   ],
   "source": [
    "values = [1,2,2,2,2 ,2, 5, 6, 6, 7, 7,4,5,6,6,6,7,7,7,7,6,6,6, 8, 8, 8, 10,11,11,10,14]\n",
    "\n",
    "plt.figure(figsize=(5,5))\n",
    "plt.boxplot(values)\n",
    "plt.yticks(range(min(values), max(values)))\n",
    "plt.ylabel(\"Value\")\n",
    "plt.show()"
   ]
  },
  {
   "cell_type": "markdown",
   "metadata": {},
   "source": [
    "# Ödev-17"
   ]
  },
  {
   "cell_type": "code",
   "execution_count": 1,
   "metadata": {},
   "outputs": [],
   "source": [
    "# tips.csv veri setinde tip niteliğine ait boxplot çiziniz ve grafiği yorumlayınız."
   ]
  }
 ],
 "metadata": {
  "kernelspec": {
   "display_name": "Python 3",
   "language": "python",
   "name": "python3"
  },
  "language_info": {
   "codemirror_mode": {
    "name": "ipython",
    "version": 3
   },
   "file_extension": ".py",
   "mimetype": "text/x-python",
   "name": "python",
   "nbconvert_exporter": "python",
   "pygments_lexer": "ipython3",
   "version": "3.6.5"
  }
 },
 "nbformat": 4,
 "nbformat_minor": 2
}
