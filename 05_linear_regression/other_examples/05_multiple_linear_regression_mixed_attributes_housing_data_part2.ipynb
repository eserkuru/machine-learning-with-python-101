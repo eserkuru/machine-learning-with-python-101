{
 "cells": [
  {
   "cell_type": "code",
   "execution_count": 1,
   "metadata": {},
   "outputs": [],
   "source": [
    "import pandas as pd\n",
    "import numpy as np\n",
    "import matplotlib.pyplot as plt\n",
    "%matplotlib inline"
   ]
  },
  {
   "cell_type": "code",
   "execution_count": 2,
   "metadata": {},
   "outputs": [],
   "source": [
    "df = pd.read_csv(\"D:/Datasets/housing_part1.csv\")"
   ]
  },
  {
   "cell_type": "code",
   "execution_count": 3,
   "metadata": {},
   "outputs": [
    {
     "data": {
      "text/html": [
       "<div>\n",
       "<style scoped>\n",
       "    .dataframe tbody tr th:only-of-type {\n",
       "        vertical-align: middle;\n",
       "    }\n",
       "\n",
       "    .dataframe tbody tr th {\n",
       "        vertical-align: top;\n",
       "    }\n",
       "\n",
       "    .dataframe thead th {\n",
       "        text-align: right;\n",
       "    }\n",
       "</style>\n",
       "<table border=\"1\" class=\"dataframe\">\n",
       "  <thead>\n",
       "    <tr style=\"text-align: right;\">\n",
       "      <th></th>\n",
       "      <th>ocean_proximity</th>\n",
       "      <th>longitude</th>\n",
       "      <th>latitude</th>\n",
       "      <th>housing_median_age</th>\n",
       "      <th>total_rooms</th>\n",
       "      <th>total_bedrooms</th>\n",
       "      <th>population</th>\n",
       "      <th>households</th>\n",
       "      <th>median_income</th>\n",
       "      <th>households_norm_dist</th>\n",
       "      <th>median_income_norm_dist</th>\n",
       "      <th>population_norm_dist</th>\n",
       "      <th>total_rooms_dist</th>\n",
       "      <th>total_bedrooms_dist</th>\n",
       "      <th>rooms_per_households</th>\n",
       "      <th>bed_rooms_per_room</th>\n",
       "      <th>bed_rooms_per_households</th>\n",
       "      <th>population_per_households</th>\n",
       "      <th>median_house_value</th>\n",
       "    </tr>\n",
       "  </thead>\n",
       "  <tbody>\n",
       "    <tr>\n",
       "      <th>0</th>\n",
       "      <td>NEAR BAY</td>\n",
       "      <td>-122.23</td>\n",
       "      <td>37.88</td>\n",
       "      <td>41.0</td>\n",
       "      <td>880.0</td>\n",
       "      <td>129.0</td>\n",
       "      <td>322.0</td>\n",
       "      <td>126.0</td>\n",
       "      <td>8.3252</td>\n",
       "      <td>-1.517201</td>\n",
       "      <td>1.916290</td>\n",
       "      <td>-1.618362</td>\n",
       "      <td>-1.157638</td>\n",
       "      <td>-1.575894</td>\n",
       "      <td>0.763009</td>\n",
       "      <td>-0.001791</td>\n",
       "      <td>1.038685</td>\n",
       "      <td>1.066676</td>\n",
       "      <td>452600.0</td>\n",
       "    </tr>\n",
       "    <tr>\n",
       "      <th>1</th>\n",
       "      <td>NEAR BAY</td>\n",
       "      <td>-122.22</td>\n",
       "      <td>37.86</td>\n",
       "      <td>21.0</td>\n",
       "      <td>7099.0</td>\n",
       "      <td>1106.0</td>\n",
       "      <td>2401.0</td>\n",
       "      <td>1138.0</td>\n",
       "      <td>8.3014</td>\n",
       "      <td>1.634592</td>\n",
       "      <td>1.909694</td>\n",
       "      <td>1.090062</td>\n",
       "      <td>1.896642</td>\n",
       "      <td>1.444741</td>\n",
       "      <td>1.160316</td>\n",
       "      <td>0.000204</td>\n",
       "      <td>0.883854</td>\n",
       "      <td>0.666871</td>\n",
       "      <td>358500.0</td>\n",
       "    </tr>\n",
       "    <tr>\n",
       "      <th>2</th>\n",
       "      <td>NEAR BAY</td>\n",
       "      <td>-122.24</td>\n",
       "      <td>37.85</td>\n",
       "      <td>52.0</td>\n",
       "      <td>1467.0</td>\n",
       "      <td>190.0</td>\n",
       "      <td>496.0</td>\n",
       "      <td>177.0</td>\n",
       "      <td>7.2574</td>\n",
       "      <td>-1.134194</td>\n",
       "      <td>1.601978</td>\n",
       "      <td>-1.139047</td>\n",
       "      <td>-0.534638</td>\n",
       "      <td>-1.133477</td>\n",
       "      <td>0.471381</td>\n",
       "      <td>-0.000773</td>\n",
       "      <td>0.999368</td>\n",
       "      <td>1.004279</td>\n",
       "      <td>352100.0</td>\n",
       "    </tr>\n",
       "    <tr>\n",
       "      <th>3</th>\n",
       "      <td>NEAR BAY</td>\n",
       "      <td>-122.25</td>\n",
       "      <td>37.85</td>\n",
       "      <td>52.0</td>\n",
       "      <td>1274.0</td>\n",
       "      <td>235.0</td>\n",
       "      <td>558.0</td>\n",
       "      <td>219.0</td>\n",
       "      <td>5.6431</td>\n",
       "      <td>-0.877485</td>\n",
       "      <td>1.035967</td>\n",
       "      <td>-0.999677</td>\n",
       "      <td>-0.713676</td>\n",
       "      <td>-0.873734</td>\n",
       "      <td>0.813320</td>\n",
       "      <td>-0.000686</td>\n",
       "      <td>0.995726</td>\n",
       "      <td>1.139252</td>\n",
       "      <td>341300.0</td>\n",
       "    </tr>\n",
       "    <tr>\n",
       "      <th>4</th>\n",
       "      <td>NEAR BAY</td>\n",
       "      <td>-122.25</td>\n",
       "      <td>37.85</td>\n",
       "      <td>52.0</td>\n",
       "      <td>1627.0</td>\n",
       "      <td>280.0</td>\n",
       "      <td>565.0</td>\n",
       "      <td>259.0</td>\n",
       "      <td>3.8462</td>\n",
       "      <td>-0.665587</td>\n",
       "      <td>0.198026</td>\n",
       "      <td>-0.984697</td>\n",
       "      <td>-0.399654</td>\n",
       "      <td>-0.650113</td>\n",
       "      <td>0.600453</td>\n",
       "      <td>-0.000400</td>\n",
       "      <td>0.976751</td>\n",
       "      <td>1.479442</td>\n",
       "      <td>342200.0</td>\n",
       "    </tr>\n",
       "  </tbody>\n",
       "</table>\n",
       "</div>"
      ],
      "text/plain": [
       "  ocean_proximity  longitude  latitude  housing_median_age  total_rooms  \\\n",
       "0        NEAR BAY    -122.23     37.88                41.0        880.0   \n",
       "1        NEAR BAY    -122.22     37.86                21.0       7099.0   \n",
       "2        NEAR BAY    -122.24     37.85                52.0       1467.0   \n",
       "3        NEAR BAY    -122.25     37.85                52.0       1274.0   \n",
       "4        NEAR BAY    -122.25     37.85                52.0       1627.0   \n",
       "\n",
       "   total_bedrooms  population  households  median_income  \\\n",
       "0           129.0       322.0       126.0         8.3252   \n",
       "1          1106.0      2401.0      1138.0         8.3014   \n",
       "2           190.0       496.0       177.0         7.2574   \n",
       "3           235.0       558.0       219.0         5.6431   \n",
       "4           280.0       565.0       259.0         3.8462   \n",
       "\n",
       "   households_norm_dist  median_income_norm_dist  population_norm_dist  \\\n",
       "0             -1.517201                 1.916290             -1.618362   \n",
       "1              1.634592                 1.909694              1.090062   \n",
       "2             -1.134194                 1.601978             -1.139047   \n",
       "3             -0.877485                 1.035967             -0.999677   \n",
       "4             -0.665587                 0.198026             -0.984697   \n",
       "\n",
       "   total_rooms_dist  total_bedrooms_dist  rooms_per_households  \\\n",
       "0         -1.157638            -1.575894              0.763009   \n",
       "1          1.896642             1.444741              1.160316   \n",
       "2         -0.534638            -1.133477              0.471381   \n",
       "3         -0.713676            -0.873734              0.813320   \n",
       "4         -0.399654            -0.650113              0.600453   \n",
       "\n",
       "   bed_rooms_per_room  bed_rooms_per_households  population_per_households  \\\n",
       "0           -0.001791                  1.038685                   1.066676   \n",
       "1            0.000204                  0.883854                   0.666871   \n",
       "2           -0.000773                  0.999368                   1.004279   \n",
       "3           -0.000686                  0.995726                   1.139252   \n",
       "4           -0.000400                  0.976751                   1.479442   \n",
       "\n",
       "   median_house_value  \n",
       "0            452600.0  \n",
       "1            358500.0  \n",
       "2            352100.0  \n",
       "3            341300.0  \n",
       "4            342200.0  "
      ]
     },
     "execution_count": 3,
     "metadata": {},
     "output_type": "execute_result"
    }
   ],
   "source": [
    "df.head()"
   ]
  },
  {
   "cell_type": "code",
   "execution_count": 4,
   "metadata": {},
   "outputs": [
    {
     "data": {
      "text/plain": [
       "Index(['ocean_proximity', 'longitude', 'latitude', 'housing_median_age',\n",
       "       'total_rooms', 'total_bedrooms', 'population', 'households',\n",
       "       'median_income', 'households_norm_dist', 'median_income_norm_dist',\n",
       "       'population_norm_dist', 'total_rooms_dist', 'total_bedrooms_dist',\n",
       "       'rooms_per_households', 'bed_rooms_per_room',\n",
       "       'bed_rooms_per_households', 'population_per_households',\n",
       "       'median_house_value'],\n",
       "      dtype='object')"
      ]
     },
     "execution_count": 4,
     "metadata": {},
     "output_type": "execute_result"
    }
   ],
   "source": [
    "df.columns"
   ]
  },
  {
   "cell_type": "code",
   "execution_count": 5,
   "metadata": {},
   "outputs": [],
   "source": [
    "# Normal dağılıma map ettiklerimizi alalım diğerlerini dışarıda bırakalım"
   ]
  },
  {
   "cell_type": "code",
   "execution_count": 6,
   "metadata": {},
   "outputs": [],
   "source": [
    "df = df[['ocean_proximity', 'longitude', 'latitude', 'housing_median_age',\n",
    "       'total_rooms', 'total_bedrooms', 'population', 'households',\n",
    "       'median_income', 'households_norm_dist', 'median_income_norm_dist',\n",
    "       'population_norm_dist', 'total_rooms_dist', 'total_bedrooms_dist',\n",
    "       'rooms_per_households', 'bed_rooms_per_room',\n",
    "       'bed_rooms_per_households', 'population_per_households',\n",
    "       'median_house_value']]"
   ]
  },
  {
   "cell_type": "code",
   "execution_count": 7,
   "metadata": {},
   "outputs": [],
   "source": [
    "# Nitelik seçimi (Feature matrix (X) ve output(y))"
   ]
  },
  {
   "cell_type": "code",
   "execution_count": 8,
   "metadata": {},
   "outputs": [
    {
     "data": {
      "text/plain": [
       "(20640, 18)"
      ]
     },
     "execution_count": 8,
     "metadata": {},
     "output_type": "execute_result"
    }
   ],
   "source": [
    "X = df.iloc[:,:-1].values\n",
    "X.shape"
   ]
  },
  {
   "cell_type": "code",
   "execution_count": 9,
   "metadata": {},
   "outputs": [
    {
     "data": {
      "text/plain": [
       "19"
      ]
     },
     "execution_count": 9,
     "metadata": {},
     "output_type": "execute_result"
    }
   ],
   "source": [
    "len(df.columns)"
   ]
  },
  {
   "cell_type": "code",
   "execution_count": 10,
   "metadata": {},
   "outputs": [
    {
     "data": {
      "text/plain": [
       "(20640,)"
      ]
     },
     "execution_count": 10,
     "metadata": {},
     "output_type": "execute_result"
    }
   ],
   "source": [
    "y = df.iloc[:,18].values\n",
    "y.shape"
   ]
  },
  {
   "cell_type": "markdown",
   "metadata": {},
   "source": [
    "# LabelEncoder"
   ]
  },
  {
   "cell_type": "code",
   "execution_count": 11,
   "metadata": {},
   "outputs": [],
   "source": [
    "from sklearn.preprocessing import LabelEncoder"
   ]
  },
  {
   "cell_type": "code",
   "execution_count": 12,
   "metadata": {},
   "outputs": [],
   "source": [
    "label_encoder = LabelEncoder()"
   ]
  },
  {
   "cell_type": "code",
   "execution_count": 13,
   "metadata": {},
   "outputs": [
    {
     "data": {
      "text/plain": [
       "(20640, 18)"
      ]
     },
     "execution_count": 13,
     "metadata": {},
     "output_type": "execute_result"
    }
   ],
   "source": [
    "# Yalnızca bir kere çalıştırın\n",
    "X[:,0] = label_encoder.fit_transform(X[:,0])\n",
    "X.shape"
   ]
  },
  {
   "cell_type": "markdown",
   "metadata": {},
   "source": [
    "# OneHotEncoder"
   ]
  },
  {
   "cell_type": "code",
   "execution_count": 14,
   "metadata": {},
   "outputs": [],
   "source": [
    "from sklearn.preprocessing import OneHotEncoder"
   ]
  },
  {
   "cell_type": "code",
   "execution_count": 15,
   "metadata": {},
   "outputs": [
    {
     "name": "stderr",
     "output_type": "stream",
     "text": [
      "c:\\python\\python36\\lib\\site-packages\\sklearn\\preprocessing\\_encoders.py:414: FutureWarning: The handling of integer data will change in version 0.22. Currently, the categories are determined based on the range [0, max(values)], while in the future they will be determined based on the unique values.\n",
      "If you want the future behaviour and silence this warning, you can specify \"categories='auto'\".\n",
      "In case you used a LabelEncoder before this OneHotEncoder to convert the categories to integers, then you can now use the OneHotEncoder directly.\n",
      "  warnings.warn(msg, FutureWarning)\n",
      "c:\\python\\python36\\lib\\site-packages\\sklearn\\preprocessing\\_encoders.py:450: DeprecationWarning: The 'categorical_features' keyword is deprecated in version 0.20 and will be removed in 0.22. You can use the ColumnTransformer instead.\n",
      "  \"use the ColumnTransformer instead.\", DeprecationWarning)\n"
     ]
    },
    {
     "data": {
      "text/plain": [
       "(20640, 22)"
      ]
     },
     "execution_count": 15,
     "metadata": {},
     "output_type": "execute_result"
    }
   ],
   "source": [
    "onehotencoder = OneHotEncoder(categorical_features = [0])\n",
    "X = onehotencoder.fit_transform(X).toarray()\n",
    "X.shape"
   ]
  },
  {
   "cell_type": "markdown",
   "metadata": {},
   "source": [
    "# Veriyi Eğitim ve Test Olmak Üzere İkiye Bölmek"
   ]
  },
  {
   "cell_type": "code",
   "execution_count": 16,
   "metadata": {},
   "outputs": [],
   "source": [
    "from sklearn.model_selection import train_test_split"
   ]
  },
  {
   "cell_type": "code",
   "execution_count": 17,
   "metadata": {},
   "outputs": [],
   "source": [
    "X_train, X_test, y_train, y_test = train_test_split(X, y, test_size = 0.2, random_state = 0)"
   ]
  },
  {
   "cell_type": "markdown",
   "metadata": {},
   "source": [
    "# Çoklu Lineer Modeli Eğitmek"
   ]
  },
  {
   "cell_type": "code",
   "execution_count": 18,
   "metadata": {},
   "outputs": [
    {
     "data": {
      "text/plain": [
       "LinearRegression(copy_X=True, fit_intercept=True, n_jobs=None, normalize=False)"
      ]
     },
     "execution_count": 18,
     "metadata": {},
     "output_type": "execute_result"
    }
   ],
   "source": [
    "from sklearn.linear_model import LinearRegression\n",
    "regressor = LinearRegression()\n",
    "regressor.fit(X_train, y_train)"
   ]
  },
  {
   "cell_type": "markdown",
   "metadata": {},
   "source": [
    "# Prediction yapmak"
   ]
  },
  {
   "cell_type": "code",
   "execution_count": 19,
   "metadata": {},
   "outputs": [],
   "source": [
    "y_pred = regressor.predict(X_test)"
   ]
  },
  {
   "cell_type": "markdown",
   "metadata": {},
   "source": [
    "# Tahmin sonuçlarını numpy.ndarray'den dataframe yapma (İncelemek daha Kolay)"
   ]
  },
  {
   "cell_type": "code",
   "execution_count": 20,
   "metadata": {},
   "outputs": [
    {
     "data": {
      "text/html": [
       "<div>\n",
       "<style scoped>\n",
       "    .dataframe tbody tr th:only-of-type {\n",
       "        vertical-align: middle;\n",
       "    }\n",
       "\n",
       "    .dataframe tbody tr th {\n",
       "        vertical-align: top;\n",
       "    }\n",
       "\n",
       "    .dataframe thead th {\n",
       "        text-align: right;\n",
       "    }\n",
       "</style>\n",
       "<table border=\"1\" class=\"dataframe\">\n",
       "  <thead>\n",
       "    <tr style=\"text-align: right;\">\n",
       "      <th></th>\n",
       "      <th>y_pred</th>\n",
       "      <th>y_test</th>\n",
       "    </tr>\n",
       "  </thead>\n",
       "  <tbody>\n",
       "    <tr>\n",
       "      <th>0</th>\n",
       "      <td>193927.762544</td>\n",
       "      <td>136900.0</td>\n",
       "    </tr>\n",
       "    <tr>\n",
       "      <th>1</th>\n",
       "      <td>279673.550079</td>\n",
       "      <td>241300.0</td>\n",
       "    </tr>\n",
       "    <tr>\n",
       "      <th>2</th>\n",
       "      <td>176209.790914</td>\n",
       "      <td>200700.0</td>\n",
       "    </tr>\n",
       "    <tr>\n",
       "      <th>3</th>\n",
       "      <td>101567.065605</td>\n",
       "      <td>72500.0</td>\n",
       "    </tr>\n",
       "    <tr>\n",
       "      <th>4</th>\n",
       "      <td>323450.766655</td>\n",
       "      <td>460000.0</td>\n",
       "    </tr>\n",
       "  </tbody>\n",
       "</table>\n",
       "</div>"
      ],
      "text/plain": [
       "          y_pred    y_test\n",
       "0  193927.762544  136900.0\n",
       "1  279673.550079  241300.0\n",
       "2  176209.790914  200700.0\n",
       "3  101567.065605   72500.0\n",
       "4  323450.766655  460000.0"
      ]
     },
     "execution_count": 20,
     "metadata": {},
     "output_type": "execute_result"
    }
   ],
   "source": [
    "predictions = pd.DataFrame(data=y_pred,    # values\n",
    "                index=range(len(y_pred)),    # 1st column as index\n",
    "                   columns=['y_pred'])  # 1st row as the column names\n",
    "\n",
    "# Sadece y_pred'den oluşan df'e test(gerçek) y_test'i sütun olarak ekleme\n",
    "predictions['y_test'] = y_test\n",
    "predictions.head()"
   ]
  },
  {
   "cell_type": "markdown",
   "metadata": {},
   "source": [
    "# Regression metrics"
   ]
  },
  {
   "cell_type": "code",
   "execution_count": 21,
   "metadata": {},
   "outputs": [
    {
     "data": {
      "text/plain": [
       "0.663724715596034"
      ]
     },
     "execution_count": 21,
     "metadata": {},
     "output_type": "execute_result"
    }
   ],
   "source": [
    "from sklearn.metrics import explained_variance_score\n",
    "explained_variance_score(y_true=y_test, y_pred=y_pred)"
   ]
  },
  {
   "cell_type": "code",
   "execution_count": 22,
   "metadata": {},
   "outputs": [
    {
     "data": {
      "text/plain": [
       "47986.10437717566"
      ]
     },
     "execution_count": 22,
     "metadata": {},
     "output_type": "execute_result"
    }
   ],
   "source": [
    "from sklearn.metrics import mean_absolute_error\n",
    "mean_absolute_error(y_true=y_test, y_pred=y_pred)"
   ]
  },
  {
   "cell_type": "code",
   "execution_count": 23,
   "metadata": {},
   "outputs": [
    {
     "data": {
      "text/plain": [
       "0.663604419093484"
      ]
     },
     "execution_count": 23,
     "metadata": {},
     "output_type": "execute_result"
    }
   ],
   "source": [
    "from sklearn.metrics import r2_score\n",
    "r2_score(y_test, y_pred)"
   ]
  },
  {
   "cell_type": "markdown",
   "metadata": {},
   "source": [
    "# Model Seçimi"
   ]
  },
  {
   "cell_type": "code",
   "execution_count": 24,
   "metadata": {},
   "outputs": [],
   "source": [
    "import statsmodels.formula.api as sm\n",
    "X_opt = X\n",
    "regressor_OLS = sm.OLS(endog=y, exog=X_opt).fit()"
   ]
  },
  {
   "cell_type": "code",
   "execution_count": 25,
   "metadata": {},
   "outputs": [
    {
     "data": {
      "text/html": [
       "<table class=\"simpletable\">\n",
       "<caption>OLS Regression Results</caption>\n",
       "<tr>\n",
       "  <th>Dep. Variable:</th>            <td>y</td>        <th>  R-squared:         </th>  <td>   0.670</td>  \n",
       "</tr>\n",
       "<tr>\n",
       "  <th>Model:</th>                   <td>OLS</td>       <th>  Adj. R-squared:    </th>  <td>   0.670</td>  \n",
       "</tr>\n",
       "<tr>\n",
       "  <th>Method:</th>             <td>Least Squares</td>  <th>  F-statistic:       </th>  <td>   1995.</td>  \n",
       "</tr>\n",
       "<tr>\n",
       "  <th>Date:</th>             <td>Sat, 25 May 2019</td> <th>  Prob (F-statistic):</th>   <td>  0.00</td>   \n",
       "</tr>\n",
       "<tr>\n",
       "  <th>Time:</th>                 <td>15:12:07</td>     <th>  Log-Likelihood:    </th> <td>-2.5842e+05</td>\n",
       "</tr>\n",
       "<tr>\n",
       "  <th>No. Observations:</th>      <td> 20640</td>      <th>  AIC:               </th>  <td>5.169e+05</td> \n",
       "</tr>\n",
       "<tr>\n",
       "  <th>Df Residuals:</th>          <td> 20618</td>      <th>  BIC:               </th>  <td>5.171e+05</td> \n",
       "</tr>\n",
       "<tr>\n",
       "  <th>Df Model:</th>              <td>    21</td>      <th>                     </th>      <td> </td>     \n",
       "</tr>\n",
       "<tr>\n",
       "  <th>Covariance Type:</th>      <td>nonrobust</td>    <th>                     </th>      <td> </td>     \n",
       "</tr>\n",
       "</table>\n",
       "<table class=\"simpletable\">\n",
       "<tr>\n",
       "   <td></td>      <th>coef</th>     <th>std err</th>      <th>t</th>      <th>P>|t|</th>  <th>[0.025</th>    <th>0.975]</th>  \n",
       "</tr>\n",
       "<tr>\n",
       "  <th>x1</th>  <td>-2.406e+06</td> <td>  8.6e+04</td> <td>  -27.980</td> <td> 0.000</td> <td>-2.57e+06</td> <td>-2.24e+06</td>\n",
       "</tr>\n",
       "<tr>\n",
       "  <th>x2</th>  <td>-2.441e+06</td> <td>  8.5e+04</td> <td>  -28.704</td> <td> 0.000</td> <td>-2.61e+06</td> <td>-2.27e+06</td>\n",
       "</tr>\n",
       "<tr>\n",
       "  <th>x3</th>  <td>-2.276e+06</td> <td> 9.18e+04</td> <td>  -24.803</td> <td> 0.000</td> <td>-2.46e+06</td> <td> -2.1e+06</td>\n",
       "</tr>\n",
       "<tr>\n",
       "  <th>x4</th>  <td>-2.414e+06</td> <td> 8.64e+04</td> <td>  -27.934</td> <td> 0.000</td> <td>-2.58e+06</td> <td>-2.24e+06</td>\n",
       "</tr>\n",
       "<tr>\n",
       "  <th>x5</th>  <td>-2.407e+06</td> <td> 8.63e+04</td> <td>  -27.880</td> <td> 0.000</td> <td>-2.58e+06</td> <td>-2.24e+06</td>\n",
       "</tr>\n",
       "<tr>\n",
       "  <th>x6</th>  <td>-2.874e+04</td> <td>  996.555</td> <td>  -28.836</td> <td> 0.000</td> <td>-3.07e+04</td> <td>-2.68e+04</td>\n",
       "</tr>\n",
       "<tr>\n",
       "  <th>x7</th>  <td>-2.819e+04</td> <td>  988.521</td> <td>  -28.520</td> <td> 0.000</td> <td>-3.01e+04</td> <td>-2.63e+04</td>\n",
       "</tr>\n",
       "<tr>\n",
       "  <th>x8</th>  <td> 1047.2559</td> <td>   42.513</td> <td>   24.634</td> <td> 0.000</td> <td>  963.927</td> <td> 1130.585</td>\n",
       "</tr>\n",
       "<tr>\n",
       "  <th>x9</th>  <td>    1.5778</td> <td>    1.190</td> <td>    1.326</td> <td> 0.185</td> <td>   -0.754</td> <td>    3.910</td>\n",
       "</tr>\n",
       "<tr>\n",
       "  <th>x10</th> <td>  -56.4703</td> <td>   10.532</td> <td>   -5.362</td> <td> 0.000</td> <td>  -77.114</td> <td>  -35.827</td>\n",
       "</tr>\n",
       "<tr>\n",
       "  <th>x11</th> <td>   12.0619</td> <td>    1.895</td> <td>    6.366</td> <td> 0.000</td> <td>    8.348</td> <td>   15.776</td>\n",
       "</tr>\n",
       "<tr>\n",
       "  <th>x12</th> <td>   24.8471</td> <td>   12.040</td> <td>    2.064</td> <td> 0.039</td> <td>    1.247</td> <td>   48.447</td>\n",
       "</tr>\n",
       "<tr>\n",
       "  <th>x13</th> <td> 4.133e+04</td> <td>  786.587</td> <td>   52.550</td> <td> 0.000</td> <td> 3.98e+04</td> <td> 4.29e+04</td>\n",
       "</tr>\n",
       "<tr>\n",
       "  <th>x14</th> <td> 4.148e+04</td> <td> 4721.041</td> <td>    8.786</td> <td> 0.000</td> <td> 3.22e+04</td> <td> 5.07e+04</td>\n",
       "</tr>\n",
       "<tr>\n",
       "  <th>x15</th> <td>-1723.0364</td> <td> 1572.073</td> <td>   -1.096</td> <td> 0.273</td> <td>-4804.423</td> <td> 1358.350</td>\n",
       "</tr>\n",
       "<tr>\n",
       "  <th>x16</th> <td>-7.944e+04</td> <td> 2374.234</td> <td>  -33.459</td> <td> 0.000</td> <td>-8.41e+04</td> <td>-7.48e+04</td>\n",
       "</tr>\n",
       "<tr>\n",
       "  <th>x17</th> <td>-2.502e+04</td> <td> 3356.918</td> <td>   -7.453</td> <td> 0.000</td> <td>-3.16e+04</td> <td>-1.84e+04</td>\n",
       "</tr>\n",
       "<tr>\n",
       "  <th>x18</th> <td> 6.457e+04</td> <td> 4547.932</td> <td>   14.197</td> <td> 0.000</td> <td> 5.57e+04</td> <td> 7.35e+04</td>\n",
       "</tr>\n",
       "<tr>\n",
       "  <th>x19</th> <td>  -50.6945</td> <td>   18.265</td> <td>   -2.775</td> <td> 0.006</td> <td>  -86.496</td> <td>  -14.893</td>\n",
       "</tr>\n",
       "<tr>\n",
       "  <th>x20</th> <td>-8.376e+04</td> <td> 2.51e+04</td> <td>   -3.333</td> <td> 0.001</td> <td>-1.33e+05</td> <td>-3.45e+04</td>\n",
       "</tr>\n",
       "<tr>\n",
       "  <th>x21</th> <td>   17.8721</td> <td>   46.079</td> <td>    0.388</td> <td> 0.698</td> <td>  -72.446</td> <td>  108.190</td>\n",
       "</tr>\n",
       "<tr>\n",
       "  <th>x22</th> <td>   50.5105</td> <td>   23.350</td> <td>    2.163</td> <td> 0.031</td> <td>    4.742</td> <td>   96.279</td>\n",
       "</tr>\n",
       "</table>\n",
       "<table class=\"simpletable\">\n",
       "<tr>\n",
       "  <th>Omnibus:</th>       <td>4363.455</td> <th>  Durbin-Watson:     </th> <td>   1.023</td> \n",
       "</tr>\n",
       "<tr>\n",
       "  <th>Prob(Omnibus):</th>  <td> 0.000</td>  <th>  Jarque-Bera (JB):  </th> <td>15630.236</td>\n",
       "</tr>\n",
       "<tr>\n",
       "  <th>Skew:</th>           <td> 1.039</td>  <th>  Prob(JB):          </th> <td>    0.00</td> \n",
       "</tr>\n",
       "<tr>\n",
       "  <th>Kurtosis:</th>       <td> 6.723</td>  <th>  Cond. No.          </th> <td>1.65e+06</td> \n",
       "</tr>\n",
       "</table><br/><br/>Warnings:<br/>[1] Standard Errors assume that the covariance matrix of the errors is correctly specified.<br/>[2] The condition number is large, 1.65e+06. This might indicate that there are<br/>strong multicollinearity or other numerical problems."
      ],
      "text/plain": [
       "<class 'statsmodels.iolib.summary.Summary'>\n",
       "\"\"\"\n",
       "                            OLS Regression Results                            \n",
       "==============================================================================\n",
       "Dep. Variable:                      y   R-squared:                       0.670\n",
       "Model:                            OLS   Adj. R-squared:                  0.670\n",
       "Method:                 Least Squares   F-statistic:                     1995.\n",
       "Date:                Sat, 25 May 2019   Prob (F-statistic):               0.00\n",
       "Time:                        15:12:07   Log-Likelihood:            -2.5842e+05\n",
       "No. Observations:               20640   AIC:                         5.169e+05\n",
       "Df Residuals:                   20618   BIC:                         5.171e+05\n",
       "Df Model:                          21                                         \n",
       "Covariance Type:            nonrobust                                         \n",
       "==============================================================================\n",
       "                 coef    std err          t      P>|t|      [0.025      0.975]\n",
       "------------------------------------------------------------------------------\n",
       "x1         -2.406e+06    8.6e+04    -27.980      0.000   -2.57e+06   -2.24e+06\n",
       "x2         -2.441e+06    8.5e+04    -28.704      0.000   -2.61e+06   -2.27e+06\n",
       "x3         -2.276e+06   9.18e+04    -24.803      0.000   -2.46e+06    -2.1e+06\n",
       "x4         -2.414e+06   8.64e+04    -27.934      0.000   -2.58e+06   -2.24e+06\n",
       "x5         -2.407e+06   8.63e+04    -27.880      0.000   -2.58e+06   -2.24e+06\n",
       "x6         -2.874e+04    996.555    -28.836      0.000   -3.07e+04   -2.68e+04\n",
       "x7         -2.819e+04    988.521    -28.520      0.000   -3.01e+04   -2.63e+04\n",
       "x8          1047.2559     42.513     24.634      0.000     963.927    1130.585\n",
       "x9             1.5778      1.190      1.326      0.185      -0.754       3.910\n",
       "x10          -56.4703     10.532     -5.362      0.000     -77.114     -35.827\n",
       "x11           12.0619      1.895      6.366      0.000       8.348      15.776\n",
       "x12           24.8471     12.040      2.064      0.039       1.247      48.447\n",
       "x13         4.133e+04    786.587     52.550      0.000    3.98e+04    4.29e+04\n",
       "x14         4.148e+04   4721.041      8.786      0.000    3.22e+04    5.07e+04\n",
       "x15        -1723.0364   1572.073     -1.096      0.273   -4804.423    1358.350\n",
       "x16        -7.944e+04   2374.234    -33.459      0.000   -8.41e+04   -7.48e+04\n",
       "x17        -2.502e+04   3356.918     -7.453      0.000   -3.16e+04   -1.84e+04\n",
       "x18         6.457e+04   4547.932     14.197      0.000    5.57e+04    7.35e+04\n",
       "x19          -50.6945     18.265     -2.775      0.006     -86.496     -14.893\n",
       "x20        -8.376e+04   2.51e+04     -3.333      0.001   -1.33e+05   -3.45e+04\n",
       "x21           17.8721     46.079      0.388      0.698     -72.446     108.190\n",
       "x22           50.5105     23.350      2.163      0.031       4.742      96.279\n",
       "==============================================================================\n",
       "Omnibus:                     4363.455   Durbin-Watson:                   1.023\n",
       "Prob(Omnibus):                  0.000   Jarque-Bera (JB):            15630.236\n",
       "Skew:                           1.039   Prob(JB):                         0.00\n",
       "Kurtosis:                       6.723   Cond. No.                     1.65e+06\n",
       "==============================================================================\n",
       "\n",
       "Warnings:\n",
       "[1] Standard Errors assume that the covariance matrix of the errors is correctly specified.\n",
       "[2] The condition number is large, 1.65e+06. This might indicate that there are\n",
       "strong multicollinearity or other numerical problems.\n",
       "\"\"\""
      ]
     },
     "execution_count": 25,
     "metadata": {},
     "output_type": "execute_result"
    }
   ],
   "source": [
    "regressor_OLS.summary()"
   ]
  },
  {
   "cell_type": "code",
   "execution_count": 249,
   "metadata": {},
   "outputs": [],
   "source": [
    "#Her seferinde en yüksek p değerine sahip olanı silip hepsi p <= 0.05 olana kadar devam"
   ]
  },
  {
   "cell_type": "code",
   "execution_count": null,
   "metadata": {},
   "outputs": [],
   "source": []
  }
 ],
 "metadata": {
  "kernelspec": {
   "display_name": "Python 3",
   "language": "python",
   "name": "python3"
  },
  "language_info": {
   "codemirror_mode": {
    "name": "ipython",
    "version": 3
   },
   "file_extension": ".py",
   "mimetype": "text/x-python",
   "name": "python",
   "nbconvert_exporter": "python",
   "pygments_lexer": "ipython3",
   "version": "3.6.5"
  }
 },
 "nbformat": 4,
 "nbformat_minor": 2
}
